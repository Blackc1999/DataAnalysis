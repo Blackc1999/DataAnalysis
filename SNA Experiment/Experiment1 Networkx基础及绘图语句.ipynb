{
 "cells": [
  {
   "cell_type": "markdown",
   "metadata": {},
   "source": [
    "# Experiment1 Networkx基础及绘图语句"
   ]
  },
  {
   "cell_type": "code",
   "execution_count": 3,
   "metadata": {
    "ExecuteTime": {
     "end_time": "2020-07-28T01:31:48.604191Z",
     "start_time": "2020-07-28T01:31:48.580083Z"
    }
   },
   "outputs": [],
   "source": [
    "%matplotlib inline\n",
    "import networkx as nx\n",
    "import matplotlib.pyplot as plt\n",
    "import pandas as pd\n",
    "import numpy as np\n",
    "\n",
    "import jupyterthemes.jtplot as jtplot\n",
    "jtplot.style()\n",
    "jtplot.style(theme='onedork') # 选择一个绘图主题 \n",
    "np.set_printoptions(suppress=True) #取消科学计数法"
   ]
  },
  {
   "cell_type": "markdown",
   "metadata": {},
   "source": [
    "## 构建网络"
   ]
  },
  {
   "cell_type": "code",
   "execution_count": 4,
   "metadata": {
    "ExecuteTime": {
     "end_time": "2020-07-28T01:31:57.934127Z",
     "start_time": "2020-07-28T01:31:57.903286Z"
    }
   },
   "outputs": [],
   "source": [
    "G = nx.DiGraph()"
   ]
  },
  {
   "cell_type": "markdown",
   "metadata": {},
   "source": [
    "+ nx.Graph()：无向图\n",
    "+ nx.MultiDiGraph()：有向重边图\n",
    "+ nx.MultiGraph()：无向重边图"
   ]
  },
  {
   "cell_type": "markdown",
   "metadata": {},
   "source": [
    "### 添加节点"
   ]
  },
  {
   "cell_type": "markdown",
   "metadata": {},
   "source": [
    "+ 添加一个节点"
   ]
  },
  {
   "cell_type": "code",
   "execution_count": 5,
   "metadata": {
    "ExecuteTime": {
     "end_time": "2020-07-28T01:32:01.457148Z",
     "start_time": "2020-07-28T01:32:01.444724Z"
    }
   },
   "outputs": [],
   "source": [
    "G.add_node(1)"
   ]
  },
  {
   "cell_type": "markdown",
   "metadata": {},
   "source": [
    "+ 批量添加节点"
   ]
  },
  {
   "cell_type": "code",
   "execution_count": 6,
   "metadata": {
    "ExecuteTime": {
     "end_time": "2020-07-28T01:32:08.458762Z",
     "start_time": "2020-07-28T01:32:08.441962Z"
    }
   },
   "outputs": [],
   "source": [
    "G.add_nodes_from([2, 3])"
   ]
  },
  {
   "cell_type": "code",
   "execution_count": 7,
   "metadata": {
    "ExecuteTime": {
     "end_time": "2020-07-28T01:32:09.355452Z",
     "start_time": "2020-07-28T01:32:09.341908Z"
    }
   },
   "outputs": [
    {
     "data": {
      "text/plain": [
       "NodeView((1, 2, 3))"
      ]
     },
     "execution_count": 7,
     "metadata": {},
     "output_type": "execute_result"
    }
   ],
   "source": [
    "G.nodes()"
   ]
  },
  {
   "cell_type": "markdown",
   "metadata": {},
   "source": [
    "+ 添加节点属性"
   ]
  },
  {
   "cell_type": "code",
   "execution_count": 8,
   "metadata": {
    "ExecuteTime": {
     "end_time": "2020-07-28T01:32:14.037867Z",
     "start_time": "2020-07-28T01:32:14.027340Z"
    }
   },
   "outputs": [],
   "source": [
    "G.nodes[1]['age'] = 10\n",
    "G.nodes[2]['age'] = 20"
   ]
  },
  {
   "cell_type": "code",
   "execution_count": 9,
   "metadata": {
    "ExecuteTime": {
     "end_time": "2020-07-28T01:32:14.965820Z",
     "start_time": "2020-07-28T01:32:14.945218Z"
    }
   },
   "outputs": [
    {
     "data": {
      "text/plain": [
       "NodeDataView({1: {'age': 10}, 2: {'age': 20}, 3: {}})"
      ]
     },
     "execution_count": 9,
     "metadata": {},
     "output_type": "execute_result"
    }
   ],
   "source": [
    "G.nodes.data()"
   ]
  },
  {
   "cell_type": "markdown",
   "metadata": {},
   "source": [
    "### 添加边"
   ]
  },
  {
   "cell_type": "code",
   "execution_count": 10,
   "metadata": {
    "ExecuteTime": {
     "end_time": "2020-07-28T01:32:19.536409Z",
     "start_time": "2020-07-28T01:32:19.528782Z"
    }
   },
   "outputs": [],
   "source": [
    "G.add_edge(1, 2, weight = 50)\n",
    "G.add_edge(1, 3, weight = 30)"
   ]
  },
  {
   "cell_type": "code",
   "execution_count": 11,
   "metadata": {
    "ExecuteTime": {
     "end_time": "2020-07-28T01:32:20.082508Z",
     "start_time": "2020-07-28T01:32:20.066536Z"
    }
   },
   "outputs": [],
   "source": [
    "group_links = [\n",
    "    (2, 4, {'weight': 20.0}),\n",
    "    (2, 5, {'weight': 30.0}),\n",
    "    (5, 3, {'weight': 5.0})\n",
    "]\n",
    "G.add_edges_from(group_links)"
   ]
  },
  {
   "cell_type": "code",
   "execution_count": 12,
   "metadata": {
    "ExecuteTime": {
     "end_time": "2020-07-28T01:32:21.625605Z",
     "start_time": "2020-07-28T01:32:21.603835Z"
    }
   },
   "outputs": [],
   "source": [
    "G[1][3]['weight'] = 10"
   ]
  },
  {
   "cell_type": "code",
   "execution_count": 13,
   "metadata": {
    "ExecuteTime": {
     "end_time": "2020-07-28T01:32:23.815482Z",
     "start_time": "2020-07-28T01:32:23.790438Z"
    }
   },
   "outputs": [
    {
     "data": {
      "text/plain": [
       "OutEdgeDataView([(1, 2, {'weight': 50}), (1, 3, {'weight': 10}), (2, 4, {'weight': 20.0}), (2, 5, {'weight': 30.0}), (5, 3, {'weight': 5.0})])"
      ]
     },
     "execution_count": 13,
     "metadata": {},
     "output_type": "execute_result"
    }
   ],
   "source": [
    "G.edges.data()"
   ]
  },
  {
   "cell_type": "markdown",
   "metadata": {},
   "source": [
    "### 访问点和边 "
   ]
  },
  {
   "cell_type": "code",
   "execution_count": 12,
   "metadata": {
    "ExecuteTime": {
     "end_time": "2020-07-14T13:11:07.585929Z",
     "start_time": "2020-07-14T13:11:07.574960Z"
    }
   },
   "outputs": [
    {
     "data": {
      "text/plain": [
       "NodeDataView({1: {'age': 10}, 2: {'age': 20}, 3: {}, 4: {}, 5: {}})"
      ]
     },
     "execution_count": 12,
     "metadata": {},
     "output_type": "execute_result"
    }
   ],
   "source": [
    "# 访问所有节点\n",
    "G.nodes(data=True)"
   ]
  },
  {
   "cell_type": "code",
   "execution_count": 13,
   "metadata": {
    "ExecuteTime": {
     "end_time": "2020-07-14T13:11:07.603882Z",
     "start_time": "2020-07-14T13:11:07.592909Z"
    }
   },
   "outputs": [
    {
     "data": {
      "text/plain": [
       "OutEdgeView([(1, 2), (1, 3), (2, 4), (2, 5), (5, 3)])"
      ]
     },
     "execution_count": 13,
     "metadata": {},
     "output_type": "execute_result"
    }
   ],
   "source": [
    "# 访问所有边\n",
    "G.edges()"
   ]
  },
  {
   "cell_type": "code",
   "execution_count": 14,
   "metadata": {
    "ExecuteTime": {
     "end_time": "2020-07-14T13:11:07.622930Z",
     "start_time": "2020-07-14T13:11:07.611858Z"
    }
   },
   "outputs": [
    {
     "data": {
      "text/plain": [
       "5"
      ]
     },
     "execution_count": 14,
     "metadata": {},
     "output_type": "execute_result"
    }
   ],
   "source": [
    "# 查看结点数\n",
    "G.number_of_nodes()"
   ]
  },
  {
   "cell_type": "code",
   "execution_count": 15,
   "metadata": {
    "ExecuteTime": {
     "end_time": "2020-07-14T13:11:07.644871Z",
     "start_time": "2020-07-14T13:11:07.631908Z"
    }
   },
   "outputs": [
    {
     "data": {
      "text/plain": [
       "5"
      ]
     },
     "execution_count": 15,
     "metadata": {},
     "output_type": "execute_result"
    }
   ],
   "source": [
    "# 查看边数\n",
    "G.number_of_edges()"
   ]
  },
  {
   "cell_type": "code",
   "execution_count": 16,
   "metadata": {
    "ExecuteTime": {
     "end_time": "2020-07-14T13:11:07.659830Z",
     "start_time": "2020-07-14T13:11:07.650854Z"
    }
   },
   "outputs": [
    {
     "data": {
      "text/plain": [
       "{'age': 10}"
      ]
     },
     "execution_count": 16,
     "metadata": {},
     "output_type": "execute_result"
    }
   ],
   "source": [
    "# 查看节点属性\n",
    "G.nodes[1]"
   ]
  },
  {
   "cell_type": "code",
   "execution_count": 17,
   "metadata": {
    "ExecuteTime": {
     "end_time": "2020-07-14T13:11:07.682778Z",
     "start_time": "2020-07-14T13:11:07.664818Z"
    }
   },
   "outputs": [
    {
     "data": {
      "text/plain": [
       "{'weight': 50}"
      ]
     },
     "execution_count": 17,
     "metadata": {},
     "output_type": "execute_result"
    }
   ],
   "source": [
    "# 查看节点属性\n",
    "G.edges[1, 2]"
   ]
  },
  {
   "cell_type": "code",
   "execution_count": 18,
   "metadata": {
    "ExecuteTime": {
     "end_time": "2020-07-14T13:11:07.706705Z",
     "start_time": "2020-07-14T13:11:07.690752Z"
    }
   },
   "outputs": [
    {
     "data": {
      "text/plain": [
       "AtlasView({2: {'weight': 50}, 3: {'weight': 10}})"
      ]
     },
     "execution_count": 18,
     "metadata": {},
     "output_type": "execute_result"
    }
   ],
   "source": [
    "# 查看邻居节点\n",
    "G.adj[1]"
   ]
  },
  {
   "cell_type": "markdown",
   "metadata": {},
   "source": [
    "## 网络可视化"
   ]
  },
  {
   "cell_type": "code",
   "execution_count": 14,
   "metadata": {
    "ExecuteTime": {
     "end_time": "2020-07-28T01:32:36.996725Z",
     "start_time": "2020-07-28T01:32:36.639323Z"
    }
   },
   "outputs": [
    {
     "data": {
      "image/png": "[encoded data removed]",
      "text/plain": [
       "<Figure size 460.8x403.2 with 1 Axes>"
      ]
     },
     "metadata": {},
     "output_type": "display_data"
    }
   ],
   "source": [
    "nx.draw(G)"
   ]
  },
  {
   "cell_type": "code",
   "execution_count": 17,
   "metadata": {
    "ExecuteTime": {
     "end_time": "2020-07-28T01:34:18.584354Z",
     "start_time": "2020-07-28T01:34:18.158118Z"
    },
    "scrolled": false
   },
   "outputs": [
    {
     "data": {
      "image/png": "[encoded data removed]",
      "text/plain": [
       "<Figure size 864x360 with 1 Axes>"
      ]
     },
     "metadata": {},
     "output_type": "display_data"
    }
   ],
   "source": [
    "fig = plt.figure(figsize=(12, 5))     \n",
    "pos={1: np.array([ 0.2,  0.5]),\n",
    " 2: np.array([ 0.4,  0.8]),\n",
    " 3: np.array([ 0.4,  0.2 ]),\n",
    " 4: np.array([ 0.6,  0.8]),\n",
    " 5: np.array([ 0.6,  0.2])}\n",
    "\n",
    "width=[float(d['weight']*.1) for (u,v,d) in G.edges(data=True)]\n",
    "edge_labels=dict([((u,v,),d['weight']) for u,v,d in G.edges(data=True)])\n",
    "nx.draw_networkx_edge_labels(G,pos,edge_labels=edge_labels, font_size = 15,alpha = .5)\n",
    "nx.draw(G, pos, node_size = 3000, node_color = 'green',\n",
    "        alpha = 0.2, width = width, edge_color='blue',style='solid')\n",
    "nx.draw_networkx_labels(G,pos,font_size=18)\n",
    "plt.show()"
   ]
  },
  {
   "cell_type": "markdown",
   "metadata": {},
   "source": [
    "## 加载自带数据"
   ]
  },
  {
   "cell_type": "markdown",
   "metadata": {},
   "source": [
    "+ Zachary空手道俱乐部"
   ]
  },
  {
   "cell_type": "code",
   "execution_count": 18,
   "metadata": {
    "ExecuteTime": {
     "end_time": "2020-07-28T01:34:48.813869Z",
     "start_time": "2020-07-28T01:34:47.911067Z"
    }
   },
   "outputs": [
    {
     "data": {
      "image/png": "[encoded data removed]",
      "text/plain": [
       "<Figure size 460.8x403.2 with 1 Axes>"
      ]
     },
     "metadata": {},
     "output_type": "display_data"
    }
   ],
   "source": [
    "#获得Karate数据 \n",
    "G = nx.karate_club_graph()\n",
    "# 设置布局算法\n",
    "pos = nx.kamada_kawai_layout(G)\n",
    "# pos = nx.spring_layout(G)\n",
    "# pos = nx.circular_layout(G)\n",
    "nx.draw(G, pos, with_labels=True, node_size=500, node_color ='red')"
   ]
  },
  {
   "cell_type": "markdown",
   "metadata": {},
   "source": [
    "+ circular_layout:将节点位置调整为圆形；\n",
    "+ random_layout:将节点随机的放在一个单位正方形内；\n",
    "+ shell_layout:将节点放于多个同心圆内；\n",
    "+ spring_layout:使用FR算法来定位节点；\n",
    "+ mspectral_layout:利用图拉普拉斯的特征向量定位节点"
   ]
  },
  {
   "cell_type": "code",
   "execution_count": 21,
   "metadata": {
    "ExecuteTime": {
     "end_time": "2020-07-28T01:37:57.689336Z",
     "start_time": "2020-07-28T01:37:57.026897Z"
    }
   },
   "outputs": [
    {
     "data": {
      "text/plain": [
       "{0: Text(0.025952650870201086, 0.33261790117208934, '0'),\n",
       " 1: Text(-0.15415401998699485, 0.25105994180495667, '1'),\n",
       " 2: Text(0.07281129985501672, -0.0033983417191491712, '2'),\n",
       " 3: Text(0.15120783208751354, 0.23250616326537624, '3'),\n",
       " 4: Text(0.1931354376765071, 0.5744542850931743, '4'),\n",
       " 5: Text(0.1899636281593889, 0.6790170176541415, '5'),\n",
       " 6: Text(-0.004421945191688926, 0.6919575323959263, '6'),\n",
       " 7: Text(0.28351953005522307, 0.21023574187161256, '7'),\n",
       " 8: Text(-0.17565775060582328, -0.009901424425590936, '8'),\n",
       " 9: Text(0.0706128957294572, -0.2892516018364106, '9'),\n",
       " 10: Text(0.3798082660350309, 0.5326230162525754, '10'),\n",
       " 11: Text(-0.187765463455571, 0.633251898662656, '11'),\n",
       " 12: Text(0.4337441257712706, 0.3795047126503021, '12'),\n",
       " 13: Text(-0.08512009044562052, 0.052681953420171374, '13'),\n",
       " 14: Text(-0.5000670290747938, -0.3124443233276982, '14'),\n",
       " 15: Text(-0.46577852066243075, -0.42902512435251583, '15'),\n",
       " 16: Text(0.15957837406503, 0.9999999999999999, '16'),\n",
       " 17: Text(-0.2793309716621693, 0.5142053297578992, '17'),\n",
       " 18: Text(-0.39589978001060566, -0.534396644699804, '18'),\n",
       " 19: Text(-0.27538469726117504, 0.0692198555661516, '19'),\n",
       " 20: Text(-0.29337501899024143, -0.6155425774166802, '20'),\n",
       " 21: Text(-0.3731908694482473, 0.4363509416601592, '21'),\n",
       " 22: Text(-0.1586417613924013, -0.6428020186173249, '22'),\n",
       " 23: Text(0.23606481307764518, -0.5155009115677344, '23'),\n",
       " 24: Text(0.5700811704327988, -0.2966538659087239, '24'),\n",
       " 25: Text(0.5487902790882915, -0.16639416423290146, '25'),\n",
       " 26: Text(-0.047563317760842494, -0.7579202579819535, '26'),\n",
       " 27: Text(0.2846274040573727, -0.28982155569336143, '27'),\n",
       " 28: Text(0.185396586596607, -0.2927632761452455, '28'),\n",
       " 29: Text(0.06851988072908262, -0.6204260251996214, '29'),\n",
       " 30: Text(-0.38137478202381636, -0.08940133497091644, '30'),\n",
       " 31: Text(0.19717885922443604, -0.07218863098738287, '31'),\n",
       " 32: Text(-0.17231285605447094, -0.31221450434231507, '32'),\n",
       " 33: Text(-0.10095415948397987, -0.3396397078018622, '33')}"
      ]
     },
     "execution_count": 21,
     "metadata": {},
     "output_type": "execute_result"
    },
    {
     "data": {
      "image/png": "[encoded data removed]",
      "text/plain": [
       "<Figure size 460.8x403.2 with 1 Axes>"
      ]
     },
     "metadata": {},
     "output_type": "display_data"
    }
   ],
   "source": [
    "# 改变节点的大小和颜色 \n",
    "nx.draw_networkx_nodes(G, pos=pos, with_labels=True, node_size=500, node_shape='*') \n",
    "# 绘制边，改变颜色和样式 \n",
    "nx.draw_networkx_edges(G, pos=pos, style='dashdot') \n",
    "# 画节点的标签\n",
    "nx.draw_networkx_labels(G, pos=pos, font_size=10)"
   ]
  },
  {
   "cell_type": "markdown",
   "metadata": {},
   "source": [
    "## 保存和加载数据集"
   ]
  },
  {
   "cell_type": "markdown",
   "metadata": {},
   "source": [
    "### 保存数据"
   ]
  },
  {
   "cell_type": "code",
   "execution_count": 25,
   "metadata": {
    "ExecuteTime": {
     "end_time": "2020-07-14T13:11:12.572590Z",
     "start_time": "2020-07-14T13:11:12.568599Z"
    }
   },
   "outputs": [],
   "source": [
    "# nx.write_pajek(G, 'data/demo.net')"
   ]
  },
  {
   "cell_type": "code",
   "execution_count": 26,
   "metadata": {
    "ExecuteTime": {
     "end_time": "2020-07-14T13:11:12.588542Z",
     "start_time": "2020-07-14T13:11:12.580578Z"
    }
   },
   "outputs": [],
   "source": [
    "# nx.write_gexf(G, 'data/demo.gexf')"
   ]
  },
  {
   "cell_type": "markdown",
   "metadata": {},
   "source": [
    "### 加载数据"
   ]
  },
  {
   "cell_type": "code",
   "execution_count": 27,
   "metadata": {
    "ExecuteTime": {
     "end_time": "2020-07-14T13:11:12.607497Z",
     "start_time": "2020-07-14T13:11:12.598524Z"
    },
    "scrolled": true
   },
   "outputs": [],
   "source": [
    "# G = nx.read_pajek('data/demo.net')"
   ]
  },
  {
   "cell_type": "code",
   "execution_count": 28,
   "metadata": {
    "ExecuteTime": {
     "end_time": "2020-07-14T13:11:12.637413Z",
     "start_time": "2020-07-14T13:11:12.626449Z"
    }
   },
   "outputs": [],
   "source": [
    "# G = nx.read_gexf('data/demo.gexf')"
   ]
  },
  {
   "cell_type": "markdown",
   "metadata": {},
   "source": [
    "## 图的基本算法"
   ]
  },
  {
   "cell_type": "markdown",
   "metadata": {},
   "source": [
    "### 迪杰斯特拉（Dijkstra）最短路径算法"
   ]
  },
  {
   "cell_type": "code",
   "execution_count": 29,
   "metadata": {
    "ExecuteTime": {
     "end_time": "2020-07-14T13:11:12.661890Z",
     "start_time": "2020-07-14T13:11:12.650913Z"
    }
   },
   "outputs": [
    {
     "data": {
      "text/plain": [
       "[0, 8, 33, 26]"
      ]
     },
     "execution_count": 29,
     "metadata": {},
     "output_type": "execute_result"
    }
   ],
   "source": [
    "nx.dijkstra_path(G, 0, 26)"
   ]
  },
  {
   "cell_type": "code",
   "execution_count": 30,
   "metadata": {
    "ExecuteTime": {
     "end_time": "2020-07-14T13:11:12.693798Z",
     "start_time": "2020-07-14T13:11:12.668864Z"
    }
   },
   "outputs": [
    {
     "data": {
      "text/plain": [
       "[0, 8, 33, 26]"
      ]
     },
     "execution_count": 30,
     "metadata": {},
     "output_type": "execute_result"
    }
   ],
   "source": [
    "nx.shortest_path(G, 0, 26)"
   ]
  },
  {
   "cell_type": "code",
   "execution_count": 31,
   "metadata": {
    "ExecuteTime": {
     "end_time": "2020-07-14T13:11:12.723716Z",
     "start_time": "2020-07-14T13:11:12.704766Z"
    }
   },
   "outputs": [
    {
     "data": {
      "text/plain": [
       "3"
      ]
     },
     "execution_count": 31,
     "metadata": {},
     "output_type": "execute_result"
    }
   ],
   "source": [
    "nx.shortest_path_length(G, 0, 26)"
   ]
  },
  {
   "cell_type": "markdown",
   "metadata": {},
   "source": [
    "### 广度优先搜索算法(Breadth First Search, BFS)"
   ]
  },
  {
   "cell_type": "code",
   "execution_count": 32,
   "metadata": {
    "ExecuteTime": {
     "end_time": "2020-07-14T13:11:12.751641Z",
     "start_time": "2020-07-14T13:11:12.736683Z"
    },
    "scrolled": true
   },
   "outputs": [
    {
     "data": {
      "text/plain": [
       "[4,\n",
       " 0,\n",
       " 6,\n",
       " 10,\n",
       " 1,\n",
       " 2,\n",
       " 3,\n",
       " 5,\n",
       " 7,\n",
       " 8,\n",
       " 11,\n",
       " 12,\n",
       " 13,\n",
       " 17,\n",
       " 19,\n",
       " 21,\n",
       " 31,\n",
       " 16,\n",
       " 30,\n",
       " 9,\n",
       " 27,\n",
       " 28,\n",
       " 32,\n",
       " 33,\n",
       " 24,\n",
       " 25,\n",
       " 23,\n",
       " 14,\n",
       " 15,\n",
       " 18,\n",
       " 20,\n",
       " 22,\n",
       " 29,\n",
       " 26]"
      ]
     },
     "execution_count": 32,
     "metadata": {},
     "output_type": "execute_result"
    }
   ],
   "source": [
    "# 以4为顶点,广度遍历\n",
    "list(nx.bfs_tree(G, 4))"
   ]
  },
  {
   "cell_type": "markdown",
   "metadata": {},
   "source": [
    "### 深度优先搜索算法(Depth First Search, DFS)"
   ]
  },
  {
   "cell_type": "code",
   "execution_count": 33,
   "metadata": {
    "ExecuteTime": {
     "end_time": "2020-07-14T13:11:12.776575Z",
     "start_time": "2020-07-14T13:11:12.757626Z"
    },
    "scrolled": true
   },
   "outputs": [
    {
     "data": {
      "text/plain": [
       "[5,\n",
       " 0,\n",
       " 1,\n",
       " 2,\n",
       " 3,\n",
       " 7,\n",
       " 13,\n",
       " 17,\n",
       " 19,\n",
       " 21,\n",
       " 30,\n",
       " 4,\n",
       " 6,\n",
       " 10,\n",
       " 8,\n",
       " 32,\n",
       " 33,\n",
       " 11,\n",
       " 12,\n",
       " 31,\n",
       " 24,\n",
       " 25,\n",
       " 28,\n",
       " 16]"
      ]
     },
     "execution_count": 33,
     "metadata": {},
     "output_type": "execute_result"
    }
   ],
   "source": [
    "# 以5为顶点, 深度遍历, 限定深度为3\n",
    "T = nx.dfs_tree(G, source=5, depth_limit=3)\n",
    "list(T)"
   ]
  }
 ],
 "metadata": {
  "kernelspec": {
   "display_name": "Python 3",
   "language": "python",
   "name": "python3"
  },
  "language_info": {
   "codemirror_mode": {
    "name": "ipython",
    "version": 3
   },
   "file_extension": ".py",
   "mimetype": "text/x-python",
   "name": "python",
   "nbconvert_exporter": "python",
   "pygments_lexer": "ipython3",
   "version": "3.7.6"
  },
  "latex_envs": {
   "LaTeX_envs_menu_present": true,
   "autoclose": false,
   "autocomplete": true,
   "bibliofile": "biblio.bib",
   "cite_by": "apalike",
   "current_citInitial": 1,
   "eqLabelWithNumbers": true,
   "eqNumInitial": 1,
   "hotkeys": {
    "equation": "Ctrl-E",
    "itemize": "Ctrl-I"
   },
   "labels_anchors": false,
   "latex_user_defs": false,
   "report_style_numbering": false,
   "user_envs_cfg": false
  },
  "toc": {
   "base_numbering": 1,
   "nav_menu": {},
   "number_sections": true,
   "sideBar": true,
   "skip_h1_title": true,
   "title_cell": "Table of Contents",
   "title_sidebar": "Contents",
   "toc_cell": false,
   "toc_position": {
    "height": "calc(100% - 180px)",
    "left": "10px",
    "top": "150px",
    "width": "310.18px"
   },
   "toc_section_display": true,
   "toc_window_display": false
  }
 },
 "nbformat": 4,
 "nbformat_minor": 2
}
