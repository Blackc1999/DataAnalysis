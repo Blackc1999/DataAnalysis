{
 "cells": [
  {
   "cell_type": "markdown",
   "metadata": {},
   "source": [
    "# Experiment5 婚姻匹配算法"
   ]
  },
  {
   "cell_type": "code",
   "execution_count": 1,
   "metadata": {
    "ExecuteTime": {
     "end_time": "2020-07-29T08:42:40.993302Z",
     "start_time": "2020-07-29T08:42:40.981469Z"
    }
   },
   "outputs": [],
   "source": [
    "from collections import deque, defaultdict"
   ]
  },
  {
   "cell_type": "code",
   "execution_count": 16,
   "metadata": {
    "ExecuteTime": {
     "end_time": "2020-07-29T09:13:33.020302Z",
     "start_time": "2020-07-29T09:13:33.004946Z"
    }
   },
   "outputs": [],
   "source": [
    "def stable_match(men_accept, women_accept,men_noway,women_noway):\n",
    "    free_men = deque(men_accept)\n",
    "    engaged = defaultdict(lambda: None)\n",
    "    while free_men:\n",
    "        i = free_men.popleft()\n",
    "        # 男生根据自己的喜好向女人表白\n",
    "        for j in men_accept[i]:\n",
    "            if i not in women_noway[j]:\n",
    "                preference = women_accept[j].index\n",
    "                fiance = engaged[j]\n",
    "            # 权力反转，女生选择是否接受\n",
    "            if not fiance or preference(i) < preference(fiance):\n",
    "                engaged[j] = i\n",
    "                fiance and free_men.append(fiance)\n",
    "                break\n",
    "    return [(m, w) for w, m in engaged.items()]"
   ]
  },
  {
   "cell_type": "code",
   "execution_count": 19,
   "metadata": {
    "ExecuteTime": {
     "end_time": "2020-07-29T09:13:51.681692Z",
     "start_time": "2020-07-29T09:13:51.664187Z"
    }
   },
   "outputs": [],
   "source": [
    "men_accept = {\n",
    "'吕布':['貂蝉','大乔','小乔'],\n",
    "'刘备':['貂蝉','小乔','大乔','尚香'],\n",
    "'孔明':['月英','貂蝉'],\n",
    "'周瑜':['小乔','大乔','尚香','貂蝉'],\n",
    "'曹操':['小乔','貂蝉','大乔','尚香']\n",
    "}\n",
    "\n",
    "men_noway = {\n",
    " '吕布':['月英','尚香'],\n",
    "'刘备':['月英'],\n",
    "'孔明':['小乔','大乔','尚香'],\n",
    "'周瑜':['月英'],\n",
    "'曹操':['月英']\n",
    "}"
   ]
  },
  {
   "cell_type": "code",
   "execution_count": 17,
   "metadata": {
    "ExecuteTime": {
     "end_time": "2020-07-29T09:13:39.101052Z",
     "start_time": "2020-07-29T09:13:39.090117Z"
    }
   },
   "outputs": [],
   "source": [
    "women_accept = {\n",
    "'貂蝉':['曹操','吕布','刘备','周瑜','孔明'],\n",
    "'大乔':['周瑜'],\n",
    "'小乔':['周瑜','孔明'],\n",
    "'尚香':['吕布','刘备','周瑜','孔明'],\n",
    "'月英':['孔明','周瑜','曹操']\n",
    "}\n",
    "\n",
    "women_noway = {'貂蝉':[ ],\n",
    "'大乔':['刘备','孔明','吕布','曹操'],\n",
    "'小乔':['周瑜'],\n",
    "'尚香':['曹操'],\n",
    "'月英':['刘备','吕布']}\n"
   ]
  },
  {
   "cell_type": "code",
   "execution_count": null,
   "metadata": {},
   "outputs": [],
   "source": []
  }
 ],
 "metadata": {
  "kernelspec": {
   "display_name": "Python 3",
   "language": "python",
   "name": "python3"
  },
  "language_info": {
   "codemirror_mode": {
    "name": "ipython",
    "version": 3
   },
   "file_extension": ".py",
   "mimetype": "text/x-python",
   "name": "python",
   "nbconvert_exporter": "python",
   "pygments_lexer": "ipython3",
   "version": "3.7.6"
  },
  "latex_envs": {
   "LaTeX_envs_menu_present": true,
   "autoclose": false,
   "autocomplete": true,
   "bibliofile": "biblio.bib",
   "cite_by": "apalike",
   "current_citInitial": 1,
   "eqLabelWithNumbers": true,
   "eqNumInitial": 1,
   "hotkeys": {
    "equation": "Ctrl-E",
    "itemize": "Ctrl-I"
   },
   "labels_anchors": false,
   "latex_user_defs": false,
   "report_style_numbering": false,
   "user_envs_cfg": false
  },
  "toc": {
   "base_numbering": 1,
   "nav_menu": {},
   "number_sections": true,
   "sideBar": true,
   "skip_h1_title": true,
   "title_cell": "Table of Contents",
   "title_sidebar": "Contents",
   "toc_cell": false,
   "toc_position": {
    "height": "calc(100% - 180px)",
    "left": "10px",
    "top": "150px",
    "width": "165px"
   },
   "toc_section_display": true,
   "toc_window_display": true
  }
 },
 "nbformat": 4,
 "nbformat_minor": 2
}
