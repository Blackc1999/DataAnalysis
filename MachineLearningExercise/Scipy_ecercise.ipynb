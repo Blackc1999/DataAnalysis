{
 "cells": [
  {
   "cell_type": "markdown",
   "metadata": {},
   "source": [
    "# scipy 学习 "
   ]
  },
  {
   "cell_type": "code",
   "execution_count": 4,
   "metadata": {
    "ExecuteTime": {
     "end_time": "2020-02-07T08:53:37.319121Z",
     "start_time": "2020-02-07T08:53:37.257190Z"
    }
   },
   "outputs": [],
   "source": [
    "from __future__ import print_function, division\n",
    "import jupyterthemes.jtplot as jtplot\n",
    "jtplot.style()\n",
    "import numpy as np\n",
    "np.set_printoptions(suppress=True)\n",
    "import pandas as pd\n",
    "import matplotlib as mpl\n",
    "import matplotlib.pyplot as plt\n",
    "%matplotlib inline"
   ]
  },
  {
   "cell_type": "markdown",
   "metadata": {},
   "source": [
    "# scipy聚簇"
   ]
  },
  {
   "cell_type": "code",
   "execution_count": 5,
   "metadata": {
    "ExecuteTime": {
     "end_time": "2020-02-07T08:53:43.076159Z",
     "start_time": "2020-02-07T08:53:43.041694Z"
    }
   },
   "outputs": [
    {
     "data": {
      "text/plain": [
       "array([[5.85404826, 5.85875278, 5.36639351],\n",
       "       [5.44013224, 5.0262497 , 5.508931  ],\n",
       "       [5.97008181, 5.28187382, 5.63674814],\n",
       "       [5.6701777 , 5.98135391, 5.85435376],\n",
       "       [5.25718958, 5.65786815, 5.70622429],\n",
       "       [5.83169186, 5.42453132, 5.66217413],\n",
       "       [5.82088734, 5.00985738, 5.84311054],\n",
       "       [5.0599434 , 5.2391638 , 5.89314839],\n",
       "       [5.09736593, 5.0747167 , 5.44745597],\n",
       "       [5.69097028, 5.13654493, 5.48142487],\n",
       "       [5.70838173, 5.75936703, 5.61466481],\n",
       "       [5.07316875, 5.45959479, 5.03115462],\n",
       "       [5.26756576, 5.92650061, 5.04570097],\n",
       "       [5.60616658, 5.04117401, 5.6374882 ],\n",
       "       [5.02028879, 5.56806441, 5.88240466],\n",
       "       [5.16031408, 5.70604992, 5.31176468],\n",
       "       [5.78982169, 5.02417555, 5.29103958],\n",
       "       [5.0129462 , 5.24769698, 5.35482791],\n",
       "       [5.7717203 , 5.69981846, 5.92699579],\n",
       "       [5.6932448 , 5.32828594, 5.55878263],\n",
       "       [5.14023321, 5.56484998, 5.18948425],\n",
       "       [5.20692298, 5.98134203, 5.95350468],\n",
       "       [5.74979966, 5.58811833, 5.05168114],\n",
       "       [5.51061812, 5.16311097, 5.19958074],\n",
       "       [5.20897357, 5.79721845, 5.77354343],\n",
       "       [5.1067691 , 5.75594613, 5.88152191],\n",
       "       [5.37570633, 5.17410551, 5.40542456],\n",
       "       [5.06918835, 5.64201726, 5.0575001 ],\n",
       "       [5.80741037, 5.80391771, 5.82297561],\n",
       "       [5.19431078, 5.90503503, 5.33230491],\n",
       "       [5.39498753, 5.16614815, 5.52273147],\n",
       "       [5.25589008, 5.66619644, 5.65133887],\n",
       "       [5.96792146, 5.96245193, 5.5745035 ],\n",
       "       [5.75662399, 5.43846328, 5.9833118 ],\n",
       "       [5.59574964, 5.4852322 , 5.18819225],\n",
       "       [5.35304286, 5.44031839, 5.62164523],\n",
       "       [5.71329251, 5.36689124, 5.123479  ],\n",
       "       [5.70672194, 5.40380287, 5.80633876],\n",
       "       [5.51968831, 5.47417219, 5.95447478],\n",
       "       [5.71334194, 5.30201129, 5.23501805],\n",
       "       [5.05020045, 5.77005435, 5.09818835],\n",
       "       [5.23460466, 5.40629622, 5.4008605 ],\n",
       "       [5.21403236, 5.89367245, 5.54213715],\n",
       "       [5.37327071, 5.81485684, 5.33923213],\n",
       "       [5.48064315, 5.82108052, 5.87842888],\n",
       "       [5.53273984, 5.01216355, 5.51809419],\n",
       "       [5.04548289, 5.68671533, 5.81462125],\n",
       "       [5.77580097, 5.86735056, 5.17985382],\n",
       "       [5.15549814, 5.28949233, 5.60457237],\n",
       "       [5.08843738, 5.09971313, 5.29913997],\n",
       "       [5.89657534, 5.98639626, 5.11135431],\n",
       "       [5.30378335, 5.95193897, 5.34571713],\n",
       "       [5.55691512, 5.91579862, 5.16657356],\n",
       "       [5.02102091, 5.39829391, 5.95684715],\n",
       "       [5.03751897, 5.19889594, 5.903184  ],\n",
       "       [5.18433472, 5.20038219, 5.93852801],\n",
       "       [5.89652659, 5.20736987, 5.21684304],\n",
       "       [5.4915357 , 5.02399968, 5.47235113],\n",
       "       [5.85679985, 5.20737208, 5.4468609 ],\n",
       "       [5.21862777, 5.33797657, 5.45045759],\n",
       "       [5.85195339, 5.22856171, 5.39275282],\n",
       "       [5.40962725, 5.0298795 , 5.49668497],\n",
       "       [5.12774749, 5.42264725, 5.66318197],\n",
       "       [5.21542817, 5.17321733, 5.38708775],\n",
       "       [5.31624875, 5.48370077, 5.58794061],\n",
       "       [5.26688644, 5.65358749, 5.45466193],\n",
       "       [5.44720718, 5.55313225, 5.18394251],\n",
       "       [5.81665127, 5.61466355, 5.4813749 ],\n",
       "       [5.4942037 , 5.52259336, 5.30273119],\n",
       "       [5.9723228 , 5.05457767, 5.27037976],\n",
       "       [5.63174539, 5.07986594, 5.14432137],\n",
       "       [5.31087032, 5.11242892, 5.71422353],\n",
       "       [5.80577159, 5.86020172, 5.60754032],\n",
       "       [5.82917978, 5.01148904, 5.66685127],\n",
       "       [5.92224408, 5.41152089, 5.64349899],\n",
       "       [5.89284747, 5.84668445, 5.87804377],\n",
       "       [5.30607935, 5.6963388 , 5.92450139],\n",
       "       [5.15787432, 5.43314249, 5.82204544],\n",
       "       [5.10402419, 5.36320348, 5.75141127],\n",
       "       [5.63744243, 5.34945961, 5.90032619],\n",
       "       [5.17754095, 5.27406173, 5.10689304],\n",
       "       [5.17864802, 5.35290378, 5.59045547],\n",
       "       [5.96519705, 5.24286185, 5.54312532],\n",
       "       [5.55922477, 5.19185701, 5.92654022],\n",
       "       [5.52726194, 5.14498882, 5.95706313],\n",
       "       [5.19111645, 5.28571439, 5.44988824],\n",
       "       [5.79242528, 5.85197774, 5.02973664],\n",
       "       [5.06454561, 5.55380518, 5.50173151],\n",
       "       [5.79410549, 5.86257004, 5.59227697],\n",
       "       [5.15542654, 5.11350838, 5.40585991],\n",
       "       [5.87651418, 5.10449047, 5.75275498],\n",
       "       [5.70590599, 5.54817602, 5.65569589],\n",
       "       [5.40500469, 5.10338448, 5.64566106],\n",
       "       [5.08240851, 5.16413719, 5.16801237],\n",
       "       [5.90764778, 5.38525417, 5.15314787],\n",
       "       [5.12289937, 5.86096243, 5.13370291],\n",
       "       [5.14696117, 5.90375514, 5.94242956],\n",
       "       [5.7331605 , 5.05532932, 5.93895915],\n",
       "       [5.8423896 , 5.15565251, 5.19314729],\n",
       "       [5.02578507, 5.62844481, 5.79403786],\n",
       "       [0.68785398, 0.47059411, 0.21802341],\n",
       "       [0.86434708, 0.76982368, 0.37452954],\n",
       "       [0.31384809, 0.83699506, 0.59301893],\n",
       "       [0.87957759, 0.11481004, 0.81022301],\n",
       "       [0.97399999, 0.86935381, 0.41928594],\n",
       "       [0.86334674, 0.73523626, 0.94371908],\n",
       "       [0.25904589, 0.88186381, 0.85863455],\n",
       "       [0.13367719, 0.24663179, 0.39504598],\n",
       "       [0.88524704, 0.3515576 , 0.48274585],\n",
       "       [0.82814453, 0.0462732 , 0.22756771],\n",
       "       [0.61561873, 0.28410786, 0.09701551],\n",
       "       [0.21776736, 0.80611827, 0.69511008],\n",
       "       [0.38241257, 0.11592695, 0.16331145],\n",
       "       [0.15233157, 0.83904097, 0.349123  ],\n",
       "       [0.77185184, 0.71616582, 0.61398915],\n",
       "       [0.03661846, 0.39786908, 0.39406647],\n",
       "       [0.4879663 , 0.75425537, 0.23919302],\n",
       "       [0.70061931, 0.53269758, 0.94358241],\n",
       "       [0.13300586, 0.83951274, 0.98870158],\n",
       "       [0.98792522, 0.88922844, 0.22372249],\n",
       "       [0.64175591, 0.93922191, 0.55992333],\n",
       "       [0.27645345, 0.82324325, 0.48979626],\n",
       "       [0.86380622, 0.56124002, 0.2010647 ],\n",
       "       [0.00732295, 0.37368081, 0.74702879],\n",
       "       [0.89734605, 0.85030567, 0.33179756],\n",
       "       [0.76643205, 0.09676469, 0.77496607],\n",
       "       [0.9018378 , 0.13421032, 0.18723287],\n",
       "       [0.04605835, 0.63219444, 0.37637213],\n",
       "       [0.14820341, 0.03421079, 0.5356571 ],\n",
       "       [0.89988755, 0.9628913 , 0.47143847],\n",
       "       [0.94320731, 0.46611187, 0.84246952],\n",
       "       [0.96224244, 0.34134559, 0.32978161],\n",
       "       [0.01268086, 0.22832512, 0.12934311],\n",
       "       [0.3454989 , 0.4409863 , 0.60266936],\n",
       "       [0.65878654, 0.58279445, 0.3241514 ],\n",
       "       [0.04343004, 0.07833857, 0.02665385],\n",
       "       [0.74593902, 0.53401107, 0.03190994],\n",
       "       [0.48840218, 0.41421943, 0.89689899],\n",
       "       [0.17994069, 0.12661868, 0.07819392],\n",
       "       [0.77464345, 0.67365847, 0.91290938],\n",
       "       [0.49738866, 0.50996633, 0.99941199],\n",
       "       [0.82841833, 0.36884196, 0.14372199],\n",
       "       [0.6828884 , 0.73933616, 0.05595168],\n",
       "       [0.87854083, 0.50033237, 0.89033358],\n",
       "       [0.56202069, 0.74572618, 0.09370151],\n",
       "       [0.23733093, 0.09954071, 0.46441223],\n",
       "       [0.14982907, 0.00287993, 0.19931774],\n",
       "       [0.37661566, 0.08959627, 0.76559936],\n",
       "       [0.21985483, 0.53985253, 0.23662661],\n",
       "       [0.26127533, 0.38917089, 0.0331393 ],\n",
       "       [0.84890339, 0.16111855, 0.48271044],\n",
       "       [0.14390083, 0.24694133, 0.14416798],\n",
       "       [0.1700179 , 0.67115707, 0.53719817],\n",
       "       [0.57988104, 0.21818709, 0.62909052],\n",
       "       [0.83660599, 0.23821101, 0.05148743],\n",
       "       [0.20161684, 0.23972784, 0.05098344],\n",
       "       [0.50763747, 0.69597586, 0.02079445],\n",
       "       [0.95648068, 0.53055821, 0.27479636],\n",
       "       [0.25503409, 0.52003689, 0.86226127],\n",
       "       [0.11598578, 0.03370604, 0.67896077],\n",
       "       [0.16018396, 0.17662898, 0.26204744],\n",
       "       [0.39789977, 0.08665448, 0.17313565],\n",
       "       [0.7634719 , 0.27195838, 0.12477929],\n",
       "       [0.05797956, 0.84137685, 0.02105405],\n",
       "       [0.50394334, 0.05302198, 0.03538589],\n",
       "       [0.82861039, 0.4939113 , 0.34270114],\n",
       "       [0.61602915, 0.05662858, 0.4798656 ],\n",
       "       [0.63040024, 0.27355996, 0.26086707],\n",
       "       [0.80425914, 0.94666234, 0.99519632],\n",
       "       [0.415701  , 0.20809888, 0.16678368],\n",
       "       [0.58020267, 0.02229943, 0.08998243],\n",
       "       [0.80828132, 0.54647886, 0.38917724],\n",
       "       [0.26789438, 0.40442854, 0.09927614],\n",
       "       [0.77497921, 0.82364248, 0.36690508],\n",
       "       [0.72316732, 0.62478911, 0.51269159],\n",
       "       [0.08869625, 0.90423333, 0.83072993],\n",
       "       [0.68770834, 0.89319502, 0.2850908 ],\n",
       "       [0.10374818, 0.38490093, 0.78419981],\n",
       "       [0.71398987, 0.40177985, 0.18862472],\n",
       "       [0.01305855, 0.55120472, 0.13906544],\n",
       "       [0.99237657, 0.3311029 , 0.88418476],\n",
       "       [0.01194039, 0.88950558, 0.52043742],\n",
       "       [0.89571628, 0.63954877, 0.67108583],\n",
       "       [0.83386866, 0.17955298, 0.36413336],\n",
       "       [0.27260328, 0.35469351, 0.40263805],\n",
       "       [0.22516191, 0.19725716, 0.63445326],\n",
       "       [0.75603121, 0.50458565, 0.69036555],\n",
       "       [0.97080573, 0.22419245, 0.15209397],\n",
       "       [0.2141785 , 0.80851776, 0.11110791],\n",
       "       [0.76761752, 0.80054513, 0.80132558],\n",
       "       [0.06864529, 0.34239519, 0.85327748],\n",
       "       [0.79099598, 0.70099588, 0.9636972 ],\n",
       "       [0.10184983, 0.65074557, 0.48491402],\n",
       "       [0.39921152, 0.19634901, 0.92078181],\n",
       "       [0.0656915 , 0.94520431, 0.33209331],\n",
       "       [0.78415156, 0.42706128, 0.04385829],\n",
       "       [0.06522125, 0.78087625, 0.38729588],\n",
       "       [0.98636553, 0.43831355, 0.15798672],\n",
       "       [0.74453346, 0.11983193, 0.26595865],\n",
       "       [0.55272685, 0.47425506, 0.13299732]])"
      ]
     },
     "execution_count": 5,
     "metadata": {},
     "output_type": "execute_result"
    }
   ],
   "source": [
    "from scipy.cluster.vq import  kmeans,vq,whiten\n",
    "\n",
    "data = np.vstack((np.random.rand(100,3)+np.array([5,5,5]),np.random.rand(100,3)))\n",
    "data"
   ]
  },
  {
   "cell_type": "code",
   "execution_count": 14,
   "metadata": {
    "ExecuteTime": {
     "end_time": "2020-02-07T08:59:12.161922Z",
     "start_time": "2020-02-07T08:59:12.112141Z"
    }
   },
   "outputs": [
    {
     "data": {
      "text/html": [
       "<div>\n",
       "<style scoped>\n",
       "    .dataframe tbody tr th:only-of-type {\n",
       "        vertical-align: middle;\n",
       "    }\n",
       "\n",
       "    .dataframe tbody tr th {\n",
       "        vertical-align: top;\n",
       "    }\n",
       "\n",
       "    .dataframe thead th {\n",
       "        text-align: right;\n",
       "    }\n",
       "</style>\n",
       "<table border=\"1\" class=\"dataframe\">\n",
       "  <thead>\n",
       "    <tr style=\"text-align: right;\">\n",
       "      <th></th>\n",
       "      <th>0</th>\n",
       "      <th>1</th>\n",
       "      <th>2</th>\n",
       "    </tr>\n",
       "  </thead>\n",
       "  <tbody>\n",
       "    <tr>\n",
       "      <th>0</th>\n",
       "      <td>2.347568</td>\n",
       "      <td>2.337046</td>\n",
       "      <td>2.091157</td>\n",
       "    </tr>\n",
       "    <tr>\n",
       "      <th>1</th>\n",
       "      <td>2.181581</td>\n",
       "      <td>2.004962</td>\n",
       "      <td>2.146701</td>\n",
       "    </tr>\n",
       "    <tr>\n",
       "      <th>2</th>\n",
       "      <td>2.394099</td>\n",
       "      <td>2.106930</td>\n",
       "      <td>2.196508</td>\n",
       "    </tr>\n",
       "    <tr>\n",
       "      <th>3</th>\n",
       "      <td>2.273832</td>\n",
       "      <td>2.385952</td>\n",
       "      <td>2.281304</td>\n",
       "    </tr>\n",
       "    <tr>\n",
       "      <th>4</th>\n",
       "      <td>2.108218</td>\n",
       "      <td>2.256914</td>\n",
       "      <td>2.223581</td>\n",
       "    </tr>\n",
       "    <tr>\n",
       "      <th>...</th>\n",
       "      <td>...</td>\n",
       "      <td>...</td>\n",
       "      <td>...</td>\n",
       "    </tr>\n",
       "    <tr>\n",
       "      <th>195</th>\n",
       "      <td>0.314457</td>\n",
       "      <td>0.170354</td>\n",
       "      <td>0.017091</td>\n",
       "    </tr>\n",
       "    <tr>\n",
       "      <th>196</th>\n",
       "      <td>0.026155</td>\n",
       "      <td>0.311490</td>\n",
       "      <td>0.150920</td>\n",
       "    </tr>\n",
       "    <tr>\n",
       "      <th>197</th>\n",
       "      <td>0.395548</td>\n",
       "      <td>0.174843</td>\n",
       "      <td>0.061564</td>\n",
       "    </tr>\n",
       "    <tr>\n",
       "      <th>198</th>\n",
       "      <td>0.298570</td>\n",
       "      <td>0.047801</td>\n",
       "      <td>0.103638</td>\n",
       "    </tr>\n",
       "    <tr>\n",
       "      <th>199</th>\n",
       "      <td>0.221652</td>\n",
       "      <td>0.189180</td>\n",
       "      <td>0.051826</td>\n",
       "    </tr>\n",
       "  </tbody>\n",
       "</table>\n",
       "<p>200 rows × 3 columns</p>\n",
       "</div>"
      ],
      "text/plain": [
       "            0         1         2\n",
       "0    2.347568  2.337046  2.091157\n",
       "1    2.181581  2.004962  2.146701\n",
       "2    2.394099  2.106930  2.196508\n",
       "3    2.273832  2.385952  2.281304\n",
       "4    2.108218  2.256914  2.223581\n",
       "..        ...       ...       ...\n",
       "195  0.314457  0.170354  0.017091\n",
       "196  0.026155  0.311490  0.150920\n",
       "197  0.395548  0.174843  0.061564\n",
       "198  0.298570  0.047801  0.103638\n",
       "199  0.221652  0.189180  0.051826\n",
       "\n",
       "[200 rows x 3 columns]"
      ]
     },
     "execution_count": 14,
     "metadata": {},
     "output_type": "execute_result"
    }
   ],
   "source": [
    "data = whiten(data)\n",
    "data = pd.DataFrame(data)\n",
    "data"
   ]
  },
  {
   "cell_type": "code",
   "execution_count": 15,
   "metadata": {
    "ExecuteTime": {
     "end_time": "2020-02-07T08:59:34.863927Z",
     "start_time": "2020-02-07T08:59:34.838101Z"
    }
   },
   "outputs": [
    {
     "data": {
      "text/plain": [
       "array([[0.07784357, 0.17889631, 0.17678317],\n",
       "       [0.31201962, 0.19671384, 0.15872431],\n",
       "       [2.19086384, 2.1752222 , 2.15421634]])"
      ]
     },
     "execution_count": 15,
     "metadata": {},
     "output_type": "execute_result"
    }
   ],
   "source": [
    "centroids,_ = kmeans(data,3)\n",
    "centroids"
   ]
  },
  {
   "cell_type": "code",
   "execution_count": 19,
   "metadata": {
    "ExecuteTime": {
     "end_time": "2020-02-07T09:01:22.281096Z",
     "start_time": "2020-02-07T09:01:22.271121Z"
    }
   },
   "outputs": [
    {
     "data": {
      "text/plain": [
       "array([2, 2, 2, 2, 2, 2, 2, 2, 2, 2, 2, 2, 2, 2, 2, 2, 2, 2, 2, 2, 2, 2,\n",
       "       2, 2, 2, 2, 2, 2, 2, 2, 2, 2, 2, 2, 2, 2, 2, 2, 2, 2, 2, 2, 2, 2,\n",
       "       2, 2, 2, 2, 2, 2, 2, 2, 2, 2, 2, 2, 2, 2, 2, 2, 2, 2, 2, 2, 2, 2,\n",
       "       2, 2, 2, 2, 2, 2, 2, 2, 2, 2, 2, 2, 2, 2, 2, 2, 2, 2, 2, 2, 2, 2,\n",
       "       2, 2, 2, 2, 2, 2, 2, 2, 2, 2, 2, 2, 1, 1, 0, 1, 1, 1, 0, 0, 1, 1,\n",
       "       1, 0, 0, 0, 1, 0, 1, 1, 0, 1, 1, 0, 1, 0, 1, 1, 1, 0, 0, 1, 1, 1,\n",
       "       0, 0, 1, 0, 1, 0, 0, 1, 0, 1, 1, 1, 1, 0, 0, 0, 0, 0, 1, 0, 0, 1,\n",
       "       1, 0, 1, 1, 0, 0, 0, 0, 1, 0, 1, 1, 1, 1, 1, 0, 1, 1, 0, 1, 1, 0,\n",
       "       1, 0, 1, 0, 1, 0, 1, 1, 0, 0, 1, 1, 0, 1, 0, 1, 0, 0, 0, 1, 0, 1,\n",
       "       1, 1])"
      ]
     },
     "execution_count": 19,
     "metadata": {},
     "output_type": "execute_result"
    }
   ],
   "source": [
    "clx,_ = vq(data,centroids)\n",
    "clx"
   ]
  },
  {
   "cell_type": "markdown",
   "metadata": {},
   "source": [
    "# scipy插值"
   ]
  },
  {
   "cell_type": "code",
   "execution_count": 24,
   "metadata": {
    "ExecuteTime": {
     "end_time": "2020-02-07T09:13:30.154801Z",
     "start_time": "2020-02-07T09:13:29.963313Z"
    }
   },
   "outputs": [
    {
     "name": "stderr",
     "output_type": "stream",
     "text": [
      "C:\\Users\\admin\\Anaconda\\lib\\site-packages\\matplotlib\\backends\\backend_agg.py:211: RuntimeWarning: Glyph 8722 missing from current font.\n",
      "  font.set_text(s, 0.0, flags=flags)\n",
      "C:\\Users\\admin\\Anaconda\\lib\\site-packages\\matplotlib\\backends\\backend_agg.py:180: RuntimeWarning: Glyph 8722 missing from current font.\n",
      "  font.set_text(s, 0, flags=flags)\n"
     ]
    },
    {
     "data": {
      "image/png": "[encoded data removed]",
      "text/plain": [
       "<Figure size 432x288 with 1 Axes>"
      ]
     },
     "metadata": {},
     "output_type": "display_data"
    }
   ],
   "source": [
    "from scipy import interpolate\n",
    "\n",
    "x = np.linspace(0,4,12)\n",
    "y = np.cos(x**2/3+4)\n",
    "plt.figure()\n",
    "plt.scatter(x,y)\n",
    "plt.rcParams['font.sans-serif']=['SimHei'] #显示中文标签\n",
    "plt.title('原始数据')\n",
    "plt.show()"
   ]
  },
  {
   "cell_type": "code",
   "execution_count": 25,
   "metadata": {
    "ExecuteTime": {
     "end_time": "2020-02-07T09:21:00.002576Z",
     "start_time": "2020-02-07T09:20:59.698810Z"
    }
   },
   "outputs": [
    {
     "name": "stderr",
     "output_type": "stream",
     "text": [
      "C:\\Users\\admin\\Anaconda\\lib\\site-packages\\matplotlib\\backends\\backend_agg.py:211: RuntimeWarning: Glyph 8722 missing from current font.\n",
      "  font.set_text(s, 0.0, flags=flags)\n",
      "C:\\Users\\admin\\Anaconda\\lib\\site-packages\\matplotlib\\backends\\backend_agg.py:180: RuntimeWarning: Glyph 8722 missing from current font.\n",
      "  font.set_text(s, 0, flags=flags)\n"
     ]
    },
    {
     "data": {
      "image/png": "[encoded data removed]",
      "text/plain": [
       "<Figure size 432x288 with 1 Axes>"
      ]
     },
     "metadata": {},
     "output_type": "display_data"
    }
   ],
   "source": [
    "# 一维插值\n",
    "\n",
    "f1 = interpolate.interp1d(x,y,kind='linear')\n",
    "f2 = interpolate.interp1d(x,y,kind='cubic')\n",
    "\n",
    "xnew = np.linspace(0,4,30)\n",
    "plt.plot(x,y,'o',xnew,f1(xnew),'-',xnew,f2(xnew),'--')\n",
    "plt.legend(['data','linear','cublic','nearest'],loc='best')\n",
    "plt.show()\n"
   ]
  },
  {
   "cell_type": "code",
   "execution_count": 29,
   "metadata": {
    "ExecuteTime": {
     "end_time": "2020-02-07T09:26:33.774618Z",
     "start_time": "2020-02-07T09:26:33.482510Z"
    }
   },
   "outputs": [
    {
     "name": "stderr",
     "output_type": "stream",
     "text": [
      "C:\\Users\\admin\\Anaconda\\lib\\site-packages\\matplotlib\\backends\\backend_agg.py:211: RuntimeWarning: Glyph 8722 missing from current font.\n",
      "  font.set_text(s, 0.0, flags=flags)\n",
      "C:\\Users\\admin\\Anaconda\\lib\\site-packages\\matplotlib\\backends\\backend_agg.py:180: RuntimeWarning: Glyph 8722 missing from current font.\n",
      "  font.set_text(s, 0, flags=flags)\n"
     ]
    },
    {
     "data": {
      "image/png": "[encoded data removed]",
      "text/plain": [
       "<Figure size 432x288 with 1 Axes>"
      ]
     },
     "metadata": {},
     "output_type": "display_data"
    }
   ],
   "source": [
    "import matplotlib.pyplot as plt\n",
    "from scipy.interpolate import UnivariateSpline\n",
    "x = np.linspace(-3, 3, 50)\n",
    "y = np.exp(-x**2) + 0.1 * np.random.randn(50)\n",
    "plt.plot(x, y, 'ro', ms = 5)\n",
    "\n",
    "spl = UnivariateSpline(x, y)\n",
    "xs = np.linspace(-3, 3, 1000)\n",
    "plt.plot(xs, spl(xs), 'g', lw = 3)\n",
    "\n",
    "spl.set_smoothing_factor(0.5)\n",
    "plt.plot(xs, spl(xs), 'b', lw = 3)\n",
    "plt.legend(['data','univariateSpline','平滑化'],loc='best')\n",
    "plt.show()\n"
   ]
  },
  {
   "cell_type": "markdown",
   "metadata": {},
   "source": [
    "# scipy linalg"
   ]
  },
  {
   "cell_type": "code",
   "execution_count": 31,
   "metadata": {
    "ExecuteTime": {
     "end_time": "2020-02-07T09:46:47.013784Z",
     "start_time": "2020-02-07T09:46:46.992116Z"
    }
   },
   "outputs": [
    {
     "data": {
      "text/plain": [
       "array([-9.28,  5.16,  0.76])"
      ]
     },
     "execution_count": 31,
     "metadata": {},
     "output_type": "execute_result"
    }
   ],
   "source": [
    "from scipy import linalg\n",
    "# 线性代数方程组求解\n",
    "# 使用linalg.solve求解函数采用两个输入'a'和'b'，其中'a'表示系数，'b'表示相应的右侧值并返回解矩阵。\n",
    "''' 题目：x+3y+5z=10 ,2x+5y+z=8,2x+3y+8z=3 '''\n",
    "a = np.array([[1,3,5],[2,5,1],[2,3,8]])\n",
    "b = np.array([10,8,3])\n",
    "\n",
    "res = linalg.solve(a,b)\n",
    "res"
   ]
  },
  {
   "cell_type": "code",
   "execution_count": 33,
   "metadata": {
    "ExecuteTime": {
     "end_time": "2020-02-07T09:59:29.414219Z",
     "start_time": "2020-02-07T09:59:29.405156Z"
    }
   },
   "outputs": [
    {
     "name": "stdout",
     "output_type": "stream",
     "text": [
      "-3\n",
      "[-0.37228132+0.j  5.37228132+0.j] [[-0.82456484 -0.41597356]\n",
      " [ 0.56576746 -0.90937671]]\n"
     ]
    }
   ],
   "source": [
    "# 求行列式 linalg,det(x),x为矩阵\n",
    "x = np.array([[1,2,3],[4,2,1],[6,3,2]])\n",
    "res = linalg.det(x)\n",
    "print(int(res))\n",
    "# 求矩阵特征值，特征向量\n",
    "X = np.array([[1,2],[3,4]])\n",
    "e_values,e_vectors = linalg.eig(X)\n",
    "print(e_values,e_vectors)"
   ]
  },
  {
   "cell_type": "code",
   "execution_count": 34,
   "metadata": {
    "ExecuteTime": {
     "end_time": "2020-02-07T10:12:13.062319Z",
     "start_time": "2020-02-07T10:12:13.025422Z"
    }
   },
   "outputs": [
    {
     "name": "stdout",
     "output_type": "stream",
     "text": [
      "[[-0.66311654-0.01632158j -0.02434879-0.01522372j  0.07800849-0.74370701j]\n",
      " [ 0.16879244+0.48568264j -0.14998502+0.69249108j  0.46781945-0.12135506j]\n",
      " [ 0.12572696+0.5289842j   0.21760599-0.67065908j  0.44982547-0.06992512j]] [[-0.67459978+0.j          0.12629073-0.72730035j]\n",
      " [ 0.73818368+0.j          0.1154126 -0.66465389j]] [1.88618298 1.19743108]\n"
     ]
    }
   ],
   "source": [
    "# 奇异值分解\n",
    "#Declaring the numpy array\n",
    "a = np.random.randn(3, 2) + 1.j*np.random.randn(3, 2)\n",
    "\n",
    "#Passing the values to the eig function\n",
    "U, s, Vh = linalg.svd(a)\n",
    "\n",
    "# printing the result\n",
    "print (U, Vh, s)\n"
   ]
  },
  {
   "cell_type": "code",
   "execution_count": null,
   "metadata": {},
   "outputs": [],
   "source": []
  }
 ],
 "metadata": {
  "kernelspec": {
   "display_name": "Python 3",
   "language": "python",
   "name": "python3"
  },
  "language_info": {
   "codemirror_mode": {
    "name": "ipython",
    "version": 3
   },
   "file_extension": ".py",
   "mimetype": "text/x-python",
   "name": "python",
   "nbconvert_exporter": "python",
   "pygments_lexer": "ipython3",
   "version": "3.7.6"
  },
  "nbTranslate": {
   "displayLangs": [
    "*"
   ],
   "hotkey": "alt-t",
   "langInMainMenu": true,
   "sourceLang": "en",
   "targetLang": "fr",
   "useGoogleTranslate": true
  },
  "toc": {
   "base_numbering": 1,
   "nav_menu": {},
   "number_sections": true,
   "sideBar": true,
   "skip_h1_title": false,
   "title_cell": "Table of Contents",
   "title_sidebar": "Contents",
   "toc_cell": false,
   "toc_position": {},
   "toc_section_display": true,
   "toc_window_display": false
  }
 },
 "nbformat": 4,
 "nbformat_minor": 2
}
