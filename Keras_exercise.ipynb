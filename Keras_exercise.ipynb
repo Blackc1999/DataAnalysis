{
 "cells": [
  {
   "cell_type": "markdown",
   "metadata": {
    "ExecuteTime": {
     "end_time": "2020-03-06T12:05:48.787753Z",
     "start_time": "2020-03-06T12:05:48.771791Z"
    }
   },
   "source": [
    "# 基于《 Deep Learning with Python 》一书的Keras学习"
   ]
  },
  {
   "cell_type": "raw",
   "metadata": {},
   "source": [
    "总结：\n",
    "1. keras的应用方式是模型初始化（model=Sequential()/Model()）后搭建网络层次，然后编译模型，训练模型（训练结果为cost（即偏差值）），最后可以选择：预测模型，评估模型。\n",
    "\n",
    "2. 搭建网络层次的方法是：运用model.add添加每一层。每一层为Dence(input_shape=(input_length,input_dim),activation,\n",
    "units)\n",
    "2.1 Dense的参数 ：input_shape（只用于输入层），units(该层的节点数目，也是该层的output_dim，下一层的input_dim)，activation（激活函数），use_bias（是否添加偏置项）\n",
    "2.2 input_shape参数 ： 在keras中，数据是以张量的形式表示的，张量的形状称之为shape，表示从最外层向量逐步到达最底层向量的降维解包过程。\n",
    "比如，一个一阶的张量[1,2,3]的shape是(3,);一个二阶的张量[[1,2,3],[4,5,6]]的shape是(2,3);一个三阶的张量[[[1],[2],[3]],[[4],[5],[6]]]的shape是(2,3,1)。\n",
    "input_dim就是输入数据的维度（特征个数)\n",
    "input_dim, input_length = input_shape(input_length, input_dim)\n",
    "\n",
    "2.3 activation参数 : 常见的有‘relu’(用于一般的输入层，隐藏层，回归问题输出层),'softmax'(用于分类问题输出层）\n",
    "'sgd','tanh'（用于RNN的回归问题）\n",
    "\n",
    "3. 编译模型 model.compile(loss,optimizer,metrics=[])\n",
    "3.1 loss参数 ： 损失函数，常见的有categorical_crossentropy，mse\n",
    "3.2 metrics参数 ： 评估函数，常见的有accuracy\n",
    "3.3 optimizer参数 ： 优化器 ， 常见的有 'sgd',rmsprop,adam\n",
    "\n",
    "4. 训练模型\n",
    "4.1 分批训练 model.train_on_batch(X_batch,y_batch,batch_size) \n",
    "4.2 一次性全部训练 model.fit(X,y)\n",
    "\n",
    "5. 预测、评估 \n",
    "5.1 预测：y_pred = model.predict(X_test)\n",
    "5.2 评估： erro = model.valuate(X_test,y_test,batch_size);weight,biase = model.layers[0].get_weights()"
   ]
  },
  {
   "cell_type": "code",
   "execution_count": 1,
   "metadata": {
    "ExecuteTime": {
     "end_time": "2020-08-16T06:09:19.609955Z",
     "start_time": "2020-08-16T06:09:11.222285Z"
    }
   },
   "outputs": [
    {
     "name": "stderr",
     "output_type": "stream",
     "text": [
      "Using TensorFlow backend.\n"
     ]
    }
   ],
   "source": [
    "from __future__ import print_function, division\n",
    "import jupyterthemes.jtplot as jtplot\n",
    "jtplot.style()\n",
    "import numpy as np\n",
    "import pandas as pd\n",
    "import matplotlib as mpl\n",
    "import os, shutil, random, sys\n",
    "import matplotlib.pyplot as plt\n",
    "%matplotlib inline\n",
    "np.set_printoptions(suppress=True)\n",
    "\n",
    "from sklearn.preprocessing import MinMaxScaler\n",
    "from keras.preprocessing import sequence, image\n",
    "from keras.preprocessing.image import ImageDataGenerator\n",
    "from keras.models import Sequential, Model, load_model\n",
    "from keras.utils import to_categorical  # one_hot编码\n",
    "from keras.layers import Dense, Input, Embedding, SimpleRNN, LSTM, Bidirectional, GRU  # RNN相关框架\n",
    "from keras.layers import Conv2D, MaxPooling2D, Conv1D, MaxPooling1D, GlobalMaxPooling1D  # CNN 相关层\n",
    "from keras.layers import Flatten, Activation, Dropout  # 特殊功能层\n",
    "from keras.optimizers import Adadelta, Adam, RMSprop\n",
    "from keras import losses, metrics\n",
    "from keras.datasets import imdb  # 内置数据集\n",
    "from keras.callbacks import ModelCheckpoint, EarlyStopping, LearningRateScheduler, ReduceLROnPlateau, TensorBoard"
   ]
  },
  {
   "cell_type": "markdown",
   "metadata": {
    "heading_collapsed": true
   },
   "source": [
    "# 分类"
   ]
  },
  {
   "cell_type": "markdown",
   "metadata": {
    "hidden": true
   },
   "source": [
    "## 电影评论分类：二分类问题"
   ]
  },
  {
   "cell_type": "code",
   "execution_count": 2,
   "metadata": {
    "ExecuteTime": {
     "end_time": "2020-08-16T06:09:23.829966Z",
     "start_time": "2020-08-16T06:09:19.613720Z"
    },
    "hidden": true
   },
   "outputs": [
    {
     "data": {
      "text/plain": [
       "'\\nword_index = imdb.get_word_index()\\nreverse_word_index = dict([(value,key) for (key,value) in word_index.items()])\\ndecoded_review = \"\".join([reverse_word_index.get(i-3,\"?\") for i in train_data[0]])\\n'"
      ]
     },
     "execution_count": 2,
     "metadata": {},
     "output_type": "execute_result"
    }
   ],
   "source": [
    "(train_data, train_labels), (test_data, test_labels) = imdb.load_data(\n",
    "    num_words=10000)  # 保留前10000个常用词语\n",
    "# 反向解码\n",
    "'''\n",
    "word_index = imdb.get_word_index()\n",
    "reverse_word_index = dict([(value,key) for (key,value) in word_index.items()])\n",
    "decoded_review = \"\".join([reverse_word_index.get(i-3,\"?\") for i in train_data[0]])\n",
    "'''"
   ]
  },
  {
   "cell_type": "code",
   "execution_count": 3,
   "metadata": {
    "ExecuteTime": {
     "end_time": "2020-08-16T06:09:25.789537Z",
     "start_time": "2020-08-16T06:09:23.832240Z"
    },
    "hidden": true
   },
   "outputs": [],
   "source": [
    "# 数据向量化（非常重要）\n",
    "def vectorize_sequences(sequences, dimension=10000):\n",
    "    results = np.zeros((len(sequences), dimension))\n",
    "    for i, sequence in enumerate(sequences):\n",
    "        results[i, sequence] = 1.\n",
    "    return results\n",
    "\n",
    "\n",
    "X_train = vectorize_sequences(train_data)\n",
    "X_test = vectorize_sequences(test_data)\n",
    "y_train = np.asarray(train_labels).astype('float32')\n",
    "y_test = np.asarray(test_labels).astype('float32')\n",
    "\n",
    "X_val = X_train[:10000]\n",
    "partical_X_train = X_train[10000:]\n",
    "y_val = y_train[:10000]\n",
    "partical_y_train = y_train[10000:]"
   ]
  },
  {
   "cell_type": "code",
   "execution_count": 4,
   "metadata": {
    "ExecuteTime": {
     "end_time": "2020-08-16T06:09:40.024223Z",
     "start_time": "2020-08-16T06:09:25.789537Z"
    },
    "hidden": true
   },
   "outputs": [
    {
     "name": "stdout",
     "output_type": "stream",
     "text": [
      "Train on 15000 samples, validate on 10000 samples\n",
      "Epoch 1/6\n",
      "15000/15000 [==============================] - 3s 181us/step - loss: 0.5101 - binary_accuracy: 0.7817 - val_loss: 0.4305 - val_binary_accuracy: 0.8268\n",
      "Epoch 2/6\n",
      "15000/15000 [==============================] - 2s 157us/step - loss: 0.3071 - binary_accuracy: 0.9036 - val_loss: 0.3065 - val_binary_accuracy: 0.8887\n",
      "Epoch 3/6\n",
      "15000/15000 [==============================] - 2s 145us/step - loss: 0.2268 - binary_accuracy: 0.9271 - val_loss: 0.2805 - val_binary_accuracy: 0.8907\n",
      "Epoch 4/6\n",
      "15000/15000 [==============================] - 2s 145us/step - loss: 0.1803 - binary_accuracy: 0.9419 - val_loss: 0.2777 - val_binary_accuracy: 0.8908\n",
      "Epoch 5/6\n",
      "15000/15000 [==============================] - 2s 143us/step - loss: 0.1450 - binary_accuracy: 0.9539 - val_loss: 0.2820 - val_binary_accuracy: 0.8891\n",
      "Epoch 6/6\n",
      "15000/15000 [==============================] - 2s 143us/step - loss: 0.1230 - binary_accuracy: 0.9615 - val_loss: 0.3288 - val_binary_accuracy: 0.8727\n"
     ]
    }
   ],
   "source": [
    "# 定义模型\n",
    "model = Sequential()\n",
    "model.add(Dense(16, activation='relu', input_shape=(10000, )))\n",
    "model.add(Dense(16, activation='relu'))\n",
    "model.add(Dense(1, activation='sigmoid'))\n",
    "\n",
    "# 编译模型\n",
    "model.compile(optimizer=RMSprop(lr=0.001),\n",
    "              loss=losses.binary_crossentropy,\n",
    "              metrics=[metrics.binary_accuracy])\n",
    "\n",
    "cost = model.fit(partical_X_train,\n",
    "                 partical_y_train,\n",
    "                 epochs=6,\n",
    "                 batch_size=512,\n",
    "                 validation_data=(X_val, y_val))"
   ]
  },
  {
   "cell_type": "code",
   "execution_count": 5,
   "metadata": {
    "ExecuteTime": {
     "end_time": "2020-08-16T06:09:45.157430Z",
     "start_time": "2020-08-16T06:09:40.027545Z"
    },
    "hidden": true
   },
   "outputs": [
    {
     "name": "stdout",
     "output_type": "stream",
     "text": [
      "25000/25000 [==============================] - 3s 112us/step\n"
     ]
    }
   ],
   "source": [
    "results = model.evaluate(X_test, y_test)\n",
    "y_pred = model.predict(X_test)"
   ]
  },
  {
   "cell_type": "code",
   "execution_count": 6,
   "metadata": {
    "ExecuteTime": {
     "end_time": "2020-08-16T06:09:45.174204Z",
     "start_time": "2020-08-16T06:09:45.160068Z"
    },
    "hidden": true
   },
   "outputs": [
    {
     "data": {
      "text/plain": [
       "array([[0.10549685],\n",
       "       [0.9998165 ],\n",
       "       [0.7602266 ],\n",
       "       ...,\n",
       "       [0.05308497],\n",
       "       [0.05476692],\n",
       "       [0.35556418]], dtype=float32)"
      ]
     },
     "execution_count": 6,
     "metadata": {},
     "output_type": "execute_result"
    }
   ],
   "source": [
    "y_pred"
   ]
  },
  {
   "cell_type": "markdown",
   "metadata": {
    "heading_collapsed": true,
    "hidden": true
   },
   "source": [
    "## 新闻分类：多分类问题"
   ]
  },
  {
   "cell_type": "code",
   "execution_count": 7,
   "metadata": {
    "ExecuteTime": {
     "end_time": "2020-08-16T06:09:45.906177Z",
     "start_time": "2020-08-16T06:09:45.175452Z"
    },
    "hidden": true
   },
   "outputs": [],
   "source": [
    "from keras.datasets import reuters\n",
    "\n",
    "(train_data, train_labels), (test_data,\n",
    "                             test_labels) = reuters.load_data(num_words=10000)"
   ]
  },
  {
   "cell_type": "code",
   "execution_count": 8,
   "metadata": {
    "ExecuteTime": {
     "end_time": "2020-08-16T06:09:46.456371Z",
     "start_time": "2020-08-16T06:09:45.909758Z"
    },
    "hidden": true
   },
   "outputs": [],
   "source": [
    "X_train = vectorize_sequences(train_data)\n",
    "X_test = vectorize_sequences(test_data)\n",
    "y_train = to_categorical(train_labels)\n",
    "y_test = to_categorical(test_labels)\n",
    "X_val = X_train[:1000]\n",
    "partical_X_train = X_train[1000:]\n",
    "y_val = y_train[:1000]\n",
    "partical_y_train = y_train[1000:]"
   ]
  },
  {
   "cell_type": "code",
   "execution_count": 9,
   "metadata": {
    "ExecuteTime": {
     "end_time": "2020-08-16T06:09:58.572539Z",
     "start_time": "2020-08-16T06:09:46.460039Z"
    },
    "hidden": true
   },
   "outputs": [
    {
     "name": "stdout",
     "output_type": "stream",
     "text": [
      "Train on 7982 samples, validate on 1000 samples\n",
      "Epoch 1/9\n",
      "7982/7982 [==============================] - 1s 148us/step - loss: 2.5538 - accuracy: 0.5438 - val_loss: 1.6907 - val_accuracy: 0.6540\n",
      "Epoch 2/9\n",
      "7982/7982 [==============================] - 1s 123us/step - loss: 1.3661 - accuracy: 0.7145 - val_loss: 1.2606 - val_accuracy: 0.7300\n",
      "Epoch 3/9\n",
      "7982/7982 [==============================] - 1s 119us/step - loss: 1.0104 - accuracy: 0.7853 - val_loss: 1.1046 - val_accuracy: 0.7530\n",
      "Epoch 4/9\n",
      "7982/7982 [==============================] - 1s 169us/step - loss: 0.7963 - accuracy: 0.8310 - val_loss: 1.0143 - val_accuracy: 0.7890\n",
      "Epoch 5/9\n",
      "7982/7982 [==============================] - 1s 180us/step - loss: 0.6363 - accuracy: 0.8676 - val_loss: 0.9674 - val_accuracy: 0.8050\n",
      "Epoch 6/9\n",
      "7982/7982 [==============================] - 1s 178us/step - loss: 0.5086 - accuracy: 0.9002 - val_loss: 0.9327 - val_accuracy: 0.8030\n",
      "Epoch 7/9\n",
      "7982/7982 [==============================] - 1s 182us/step - loss: 0.4110 - accuracy: 0.9152 - val_loss: 0.9008 - val_accuracy: 0.8240\n",
      "Epoch 8/9\n",
      "7982/7982 [==============================] - 1s 178us/step - loss: 0.3373 - accuracy: 0.9313 - val_loss: 0.8978 - val_accuracy: 0.8270\n",
      "Epoch 9/9\n",
      "7982/7982 [==============================] - 1s 181us/step - loss: 0.2809 - accuracy: 0.9389 - val_loss: 0.8994 - val_accuracy: 0.8190\n"
     ]
    }
   ],
   "source": [
    "# 搭建网络\n",
    "model = Sequential()\n",
    "model.add(Dense(64, activation='relu', input_shape=(10000, )))\n",
    "model.add(Dense(64, activation='relu'))\n",
    "model.add(Dense(46, activation='softmax'))\n",
    "# 编译模型\n",
    "model.compile(optimizer='rmsprop',\n",
    "              loss='categorical_crossentropy',\n",
    "              metrics=['accuracy'])\n",
    "# 训练模型\n",
    "cost = model.fit(partical_X_train,\n",
    "                 partical_y_train,\n",
    "                 epochs=9,\n",
    "                 batch_size=512,\n",
    "                 validation_data=(X_val, y_val))"
   ]
  },
  {
   "cell_type": "code",
   "execution_count": 10,
   "metadata": {
    "ExecuteTime": {
     "end_time": "2020-08-16T06:09:58.838818Z",
     "start_time": "2020-08-16T06:09:58.576826Z"
    },
    "hidden": true,
    "scrolled": true
   },
   "outputs": [
    {
     "data": {
      "image/png": "[encoded data removed]",
      "text/plain": [
       "<Figure size 432x288 with 1 Axes>"
      ]
     },
     "metadata": {
      "needs_background": "dark"
     },
     "output_type": "display_data"
    }
   ],
   "source": [
    "loss = cost.history['loss']\n",
    "val_loss = cost.history['val_loss']\n",
    "epochs = range(1, len(loss) + 1)\n",
    "\n",
    "plt.plot(epochs, loss, 'bo', label='Training loss')\n",
    "plt.plot(epochs, val_loss, 'b', label='Validation loss')\n",
    "plt.title('Training and validation loss')\n",
    "plt.xlabel('Epochs')\n",
    "plt.ylabel('Loss')\n",
    "plt.legend()\n",
    "plt.show()"
   ]
  },
  {
   "cell_type": "code",
   "execution_count": 11,
   "metadata": {
    "ExecuteTime": {
     "end_time": "2020-08-16T06:09:59.053995Z",
     "start_time": "2020-08-16T06:09:58.842039Z"
    },
    "hidden": true,
    "scrolled": false
   },
   "outputs": [
    {
     "data": {
      "image/png": "[encoded data removed]",
      "text/plain": [
       "<Figure size 432x288 with 1 Axes>"
      ]
     },
     "metadata": {
      "needs_background": "dark"
     },
     "output_type": "display_data"
    }
   ],
   "source": [
    "acc = cost.history['accuracy']\n",
    "val_acc = cost.history['val_accuracy']\n",
    "epochs = range(1, len(loss) + 1)\n",
    "\n",
    "plt.figure()\n",
    "plt.plot(epochs, acc, 'bo', label='Training acc')\n",
    "plt.plot(epochs, val_acc, 'b', label='Validation acc')\n",
    "plt.title('Traing and validation acc')\n",
    "plt.xlabel('Epochs')\n",
    "plt.ylabel('Accuracy')\n",
    "plt.legend()\n",
    "plt.show()"
   ]
  },
  {
   "cell_type": "markdown",
   "metadata": {},
   "source": [
    "# 回归"
   ]
  },
  {
   "cell_type": "markdown",
   "metadata": {},
   "source": [
    "## 预测房价：回归问题"
   ]
  },
  {
   "cell_type": "code",
   "execution_count": 12,
   "metadata": {
    "ExecuteTime": {
     "end_time": "2020-08-16T06:09:59.105008Z",
     "start_time": "2020-08-16T06:09:59.055673Z"
    }
   },
   "outputs": [],
   "source": [
    "from keras.datasets import boston_housing\n",
    "\n",
    "(train_data, train_targets), (test_data,\n",
    "                              test_targts) = boston_housing.load_data()"
   ]
  },
  {
   "cell_type": "code",
   "execution_count": 13,
   "metadata": {
    "ExecuteTime": {
     "end_time": "2020-08-16T06:09:59.121643Z",
     "start_time": "2020-08-16T06:09:59.107822Z"
    }
   },
   "outputs": [],
   "source": [
    "from sklearn.preprocessing import scale\n",
    "train_data = scale(train_data)\n",
    "test_data = scale(test_data)"
   ]
  },
  {
   "cell_type": "code",
   "execution_count": 14,
   "metadata": {
    "ExecuteTime": {
     "end_time": "2020-08-16T06:09:59.138212Z",
     "start_time": "2020-08-16T06:09:59.124051Z"
    }
   },
   "outputs": [],
   "source": [
    "def build_model():\n",
    "    # 搭建网络\n",
    "    model = Sequential()\n",
    "    model.add(Dense(64, activation='relu',\n",
    "                    input_shape=(train_data.shape[1], )))\n",
    "    model.add(Dense(64, activation='relu'))\n",
    "    model.add(Dense(1))\n",
    "    # 编译模型\n",
    "    model.compile(loss='mse', optimizer='rmsprop', metrics=['mae'])\n",
    "    return model"
   ]
  },
  {
   "cell_type": "code",
   "execution_count": 15,
   "metadata": {
    "ExecuteTime": {
     "end_time": "2020-08-16T06:21:18.608111Z",
     "start_time": "2020-08-16T06:09:59.142387Z"
    }
   },
   "outputs": [
    {
     "name": "stdout",
     "output_type": "stream",
     "text": [
      "processing field NO. 1\n",
      "开始训练————\n",
      "训练中————\n",
      "本轮训练完毕\n",
      "processing field NO. 2\n",
      "开始训练————\n",
      "训练中————\n",
      "本轮训练完毕\n",
      "processing field NO. 3\n",
      "开始训练————\n",
      "训练中————\n",
      "本轮训练完毕\n",
      "processing field NO. 4\n",
      "开始训练————\n",
      "训练中————\n",
      "本轮训练完毕\n"
     ]
    }
   ],
   "source": [
    "k = 4\n",
    "num_epochs = 500\n",
    "num_val_samples = len(train_data) // k\n",
    "all_scores = []\n",
    "\n",
    "for i in range(k):\n",
    "    print('processing field NO.', i + 1)\n",
    "    val_data = train_data[i * num_val_samples:(i + 1) * num_val_samples]\n",
    "    val_targets = train_targets[i * num_val_samples:(i + 1) * num_val_samples]\n",
    "\n",
    "    partical_train_data = np.concatenate([\n",
    "        train_data[:i * num_val_samples],\n",
    "        train_data[(i + 1) * num_val_samples:]\n",
    "    ],\n",
    "                                         axis=0)\n",
    "    partical_train_targets = np.concatenate([\n",
    "        train_targets[:i * num_val_samples],\n",
    "        train_targets[(i + 1) * num_val_samples:]\n",
    "    ],\n",
    "                                            axis=0)\n",
    "    model = build_model()\n",
    "    print(u\"开始训练————\")\n",
    "    print('训练中————')\n",
    "    cost = model.fit(partical_train_data,\n",
    "                     partical_train_targets,\n",
    "                     validation_data=(val_data, val_targets),\n",
    "                     epochs=num_epochs,\n",
    "                     batch_size=1,\n",
    "                     verbose=0)\n",
    "    print(\"本轮训练完毕\")\n",
    "    mae_history = cost.history['val_mae']\n",
    "    all_scores.append(mae_history)"
   ]
  },
  {
   "cell_type": "code",
   "execution_count": 16,
   "metadata": {
    "ExecuteTime": {
     "end_time": "2020-08-16T06:21:18.745089Z",
     "start_time": "2020-08-16T06:21:18.609442Z"
    }
   },
   "outputs": [
    {
     "data": {
      "image/png": "[encoded data removed]",
      "text/plain": [
       "<Figure size 432x288 with 1 Axes>"
      ]
     },
     "metadata": {
      "needs_background": "dark"
     },
     "output_type": "display_data"
    }
   ],
   "source": [
    "average_score = [\n",
    "    np.mean([score[i] for score in all_scores]) for i in range(num_epochs)\n",
    "]\n",
    "\n",
    "plt.plot(range(1, len(average_score) + 1), average_score)\n",
    "plt.xlabel('Epochs')\n",
    "plt.ylabel('Validation MAE')\n",
    "plt.show()"
   ]
  },
  {
   "cell_type": "code",
   "execution_count": 17,
   "metadata": {
    "ExecuteTime": {
     "end_time": "2020-08-16T06:21:20.841866Z",
     "start_time": "2020-08-16T06:21:18.747344Z"
    }
   },
   "outputs": [
    {
     "name": "stdout",
     "output_type": "stream",
     "text": [
      "102/102 [==============================] - 0s 252us/step\n",
      "16.752366159476487\n",
      "2.725032091140747\n"
     ]
    }
   ],
   "source": [
    "model = build_model()\n",
    "model.fit(train_data, train_targets, epochs=80, batch_size=16, verbose=0)\n",
    "test_mse_score, test_mae_score = model.evaluate(test_data, test_targts)\n",
    "print(test_mse_score)\n",
    "print(test_mae_score)"
   ]
  },
  {
   "cell_type": "markdown",
   "metadata": {},
   "source": [
    "# 循环神经网络与文本处理"
   ]
  },
  {
   "cell_type": "markdown",
   "metadata": {},
   "source": [
    "## 一个简单的神经网络"
   ]
  },
  {
   "cell_type": "code",
   "execution_count": 18,
   "metadata": {
    "ExecuteTime": {
     "end_time": "2020-08-16T06:21:25.735795Z",
     "start_time": "2020-08-16T06:21:20.843647Z"
    }
   },
   "outputs": [
    {
     "name": "stdout",
     "output_type": "stream",
     "text": [
      "正在下载数据......\n",
      "下载完成\n",
      "25000 train squences\n",
      "25000 test squences\n",
      "正在加载数据......\n",
      "完成数据预处理\n",
      "训练集形状： (25000, 500)\n",
      "测试机集形状： (25000, 500)\n"
     ]
    }
   ],
   "source": [
    "max_features = 10000\n",
    "maxlen = 500\n",
    "batch_size = 32\n",
    "\n",
    "print('正在下载数据......')\n",
    "(input_train, y_train), (input_test,\n",
    "                         y_test) = imdb.load_data(num_words=max_features)\n",
    "print('下载完成')\n",
    "print(len(input_train), 'train squences')\n",
    "print(len(input_test), 'test squences')\n",
    "print('正在加载数据......')\n",
    "\n",
    "X_train = sequence.pad_sequences(input_train,\n",
    "                                 maxlen=maxlen)  # 截取前500个单词，转换二维张量\n",
    "X_test = sequence.pad_sequences(input_test, maxlen=maxlen)  # 截取前500个单词\n",
    "print('完成数据预处理')\n",
    "print('训练集形状：', X_train.shape)\n",
    "print('测试机集形状：', X_test.shape)"
   ]
  },
  {
   "cell_type": "code",
   "execution_count": null,
   "metadata": {
    "ExecuteTime": {
     "start_time": "2020-08-16T06:09:11.680Z"
    }
   },
   "outputs": [
    {
     "name": "stderr",
     "output_type": "stream",
     "text": [
      "C:\\ProgramData\\Anaconda3\\lib\\site-packages\\tensorflow_core\\python\\framework\\indexed_slices.py:424: UserWarning: Converting sparse IndexedSlices to a dense Tensor of unknown shape. This may consume a large amount of memory.\n",
      "  \"Converting sparse IndexedSlices to a dense Tensor of unknown shape. \"\n"
     ]
    },
    {
     "name": "stdout",
     "output_type": "stream",
     "text": [
      "Train on 20000 samples, validate on 5000 samples\n",
      "Epoch 1/10\n",
      "20000/20000 [==============================] - 21s 1ms/step - loss: 0.5892 - acc: 0.6788 - val_loss: 0.4531 - val_acc: 0.7956\n",
      "Epoch 2/10\n",
      "20000/20000 [==============================] - 22s 1ms/step - loss: 0.3900 - acc: 0.8383 - val_loss: 0.3542 - val_acc: 0.8548\n",
      "Epoch 3/10\n",
      "20000/20000 [==============================] - 20s 986us/step - loss: 0.2998 - acc: 0.8819 - val_loss: 0.3485 - val_acc: 0.8538\n",
      "Epoch 4/10\n",
      "20000/20000 [==============================] - 21s 1ms/step - loss: 0.2431 - acc: 0.9075 - val_loss: 0.3550 - val_acc: 0.8612\n",
      "Epoch 5/10\n",
      "20000/20000 [==============================] - 23s 1ms/step - loss: 0.1882 - acc: 0.9301 - val_loss: 0.5107 - val_acc: 0.8280\n",
      "Epoch 6/10\n",
      "20000/20000 [==============================] - 26s 1ms/step - loss: 0.1395 - acc: 0.9507 - val_loss: 0.3756 - val_acc: 0.8546\n",
      "Epoch 7/10\n",
      "20000/20000 [==============================] - 38s 2ms/step - loss: 0.0992 - acc: 0.9667 - val_loss: 0.4312 - val_acc: 0.8608\n",
      "Epoch 8/10\n",
      "20000/20000 [==============================] - 32s 2ms/step - loss: 0.0647 - acc: 0.9787 - val_loss: 0.5059 - val_acc: 0.8272\n",
      "Epoch 9/10\n",
      " 7040/20000 [=========>....................] - ETA: 28s - loss: 0.0438 - acc: 0.9879"
     ]
    }
   ],
   "source": [
    "# 搭建网络\n",
    "model = Sequential()\n",
    "model.add(Embedding(max_features, 32))  # 整数索引映射为密集向量 ，如果其后接全连接层，需要用Flatten()展平\n",
    "model.add(SimpleRNN(32))\n",
    "model.add(Dense(1, activation='sigmoid'))\n",
    "\n",
    "# 模型编译\n",
    "model.compile(optimizer='rmsprop', loss='binary_crossentropy', metrics=['acc'])\n",
    "cost = model.fit(X_train,\n",
    "                 y_train,\n",
    "                 epochs=10,\n",
    "                 batch_size=128,\n",
    "                 validation_split=0.2)"
   ]
  },
  {
   "cell_type": "markdown",
   "metadata": {},
   "source": [
    "## LSTM神经网络"
   ]
  },
  {
   "cell_type": "code",
   "execution_count": null,
   "metadata": {
    "ExecuteTime": {
     "start_time": "2020-08-16T06:09:11.742Z"
    }
   },
   "outputs": [],
   "source": [
    "# 搭建网络\n",
    "model = Sequential()\n",
    "model.add(Embedding(max_features, 32))\n",
    "model.add(LSTM(32))\n",
    "model.add(Dense(1, activation='sigmoid'))\n",
    "\n",
    "# 模型编译\n",
    "model.compile(optimizer='rmsprop', loss='binary_crossentropy', metrics=['acc'])\n",
    "cost = model.fit(X_train,\n",
    "                 y_train,\n",
    "                 epochs=6,\n",
    "                 batch_size=128,\n",
    "                 validation_split=0.2)"
   ]
  },
  {
   "cell_type": "markdown",
   "metadata": {},
   "source": [
    "加强理解embedding和validation_split"
   ]
  },
  {
   "cell_type": "markdown",
   "metadata": {},
   "source": [
    "## 双向RNN"
   ]
  },
  {
   "cell_type": "raw",
   "metadata": {
    "ExecuteTime": {
     "end_time": "2020-04-01T13:44:48.711259Z",
     "start_time": "2020-04-01T13:44:48.586461Z"
    }
   },
   "source": [
    "数据以及预处理同上一节"
   ]
  },
  {
   "cell_type": "code",
   "execution_count": null,
   "metadata": {
    "ExecuteTime": {
     "start_time": "2020-08-16T06:09:11.925Z"
    }
   },
   "outputs": [],
   "source": [
    "# 构建网络\n",
    "model = Sequential()\n",
    "model.add(Embedding(max_features, 32))\n",
    "model.add(Bidirectional(LSTM(32)))\n",
    "model.add(Dense(1, activation=\"sigmoid\"))\n",
    "\n",
    "# 编译模型\n",
    "model.compile(optimizer='rmsprop', loss='binary_crossentropy', metrics=['acc'])\n",
    "cost = model.fit(X_train,\n",
    "                 y_train,\n",
    "                 epochs=5,\n",
    "                 batch_size=128,\n",
    "                 validation_split=0.2)"
   ]
  },
  {
   "cell_type": "markdown",
   "metadata": {},
   "source": [
    "# 卷积神经网络与信号处理"
   ]
  },
  {
   "cell_type": "markdown",
   "metadata": {
    "heading_collapsed": true
   },
   "source": [
    "## 卷积神经网络的实现"
   ]
  },
  {
   "cell_type": "code",
   "execution_count": null,
   "metadata": {
    "ExecuteTime": {
     "start_time": "2020-08-16T06:09:12.057Z"
    },
    "code_folding": [
     29
    ],
    "hidden": true
   },
   "outputs": [],
   "source": [
    "# 数据的准备\n",
    "original_cat_dir = 'E:/Jupyter/Lib/DataSettings/PetImages/Cat/'\n",
    "original_dog_dir = 'E:/Jupyter/Lib/DataSettings/PetImages/Dog/'\n",
    "\n",
    "train_cat_dir = 'E:/Jupyter/Lib/DataSettings/PetImages/Exercise/train/Train_cat/'\n",
    "validation_cat_dir = 'E:/Jupyter/Lib/DataSettings/PetImages/Exercise/validation/Validation_cat/'\n",
    "test_cat_dir = 'E:/Jupyter/Lib/DataSettings/PetImages/Exercise//test/Test_cat/'\n",
    "\n",
    "train_dog_dir = 'E:/Jupyter/Lib/DataSettings/PetImages/Exercise/train/Train_dog/'\n",
    "validation_dog_dir = 'E:/Jupyter/Lib/DataSettings/PetImages/Exercise/validation/Validation_dog/'\n",
    "test_dog_dir = 'E:/Jupyter/Lib/DataSettings/PetImages/Exercise/test/Test_dog/'\n",
    "\n",
    "train_dir = 'E:/Jupyter/Lib/DataSettings/PetImages/Exercise/train/'\n",
    "validation_dir = \"E:/Jupyter/Lib/DataSettings/PetImages/Exercise/validation/\"\n",
    "test_dir = \"E:/Jupyter/Lib/DataSettings/PetImages/Exercise/test/\"\n",
    "'''\n",
    "os.mkdir(train_cat_dir)\n",
    "os.mkdir(train_dog_dir)\n",
    "os.mkdir(validation_cat_dir)\n",
    "os.mkdir(validation_dog_dir)\n",
    "os.mkdir(test_cat_dir)\n",
    "os.mkdir(test_dog_dir)\n",
    "\n",
    "for i in range(1000):\n",
    "    cat_img = os.path.join(original_cat_dir,'%d.jpg'%i)\n",
    "    cat_train = os.path.join(train_cat_dir,'%d.jpg'%i)\n",
    "    dog_img = os.path.join(original_dog_dir,'%d.jpg'%i)\n",
    "    dog_train = os.path.join(train_dog_dir,'%d.jpg'%i)\n",
    "    shutil.copyfile(cat_img,cat_train)\n",
    "    shutil.copyfile(dog_img,dog_train)\n",
    "    \n",
    "for i in range(1000,1500):\n",
    "    cat_img = os.path.join(original_cat_dir,'%d.jpg'%i)\n",
    "    cat_valid = os.path.join(validation_cat_dir,'%d.jpg'%i)\n",
    "    dog_img = os.path.join(original_dog_dir,'%d.jpg'%i)\n",
    "    dog_valid = os.path.join(validation_dog_dir,'%d.jpg'%i)\n",
    "    shutil.copyfile(cat_img,cat_valid)\n",
    "    shutil.copyfile(dog_img,dog_valid)\n",
    "    \n",
    "for i in range(1500,2000):\n",
    "    cat_img = os.path.join(original_cat_dir,'%d.jpg'%i)\n",
    "    cat_test = os.path.join(test_cat_dir,'%d.jpg'%i)\n",
    "    dog_img = os.path.join(original_dog_dir,'%d.jpg'%i)\n",
    "    dog_test = os.path.join(test_dog_dir,'%d.jpg'%i)\n",
    "    shutil.copyfile(cat_img,cat_test)\n",
    "    shutil.copyfile(dog_img,dog_test)    \n",
    "'''"
   ]
  },
  {
   "cell_type": "code",
   "execution_count": null,
   "metadata": {
    "ExecuteTime": {
     "start_time": "2020-08-16T06:09:12.063Z"
    },
    "hidden": true
   },
   "outputs": [],
   "source": [
    "keep_prob = 0.5\n",
    "model = Sequential()\n",
    "model.add(Conv2D(32, (3, 3), activation='relu', input_shape=(150, 150, 3)))\n",
    "model.add(MaxPooling2D())\n",
    "model.add(Conv2D(64, (3, 3), activation='relu'))\n",
    "model.add(MaxPooling2D())\n",
    "model.add(Conv2D(128, (3, 3), activation='relu'))\n",
    "model.add(MaxPooling2D())\n",
    "model.add(Conv2D(128, (3, 3), activation='relu'))\n",
    "model.add(MaxPooling2D())\n",
    "model.add(Flatten())\n",
    "model.add(Dropout(rate=1 - keep_prob))\n",
    "model.add(Dense(512, activation='relu'))\n",
    "model.add(Dense(1, activation='sigmoid'))\n",
    "\n",
    "# 编译模型\n",
    "rmsprop = RMSprop(lr=1e-4)\n",
    "model.compile(loss=\"binary_crossentropy\", optimizer=rmsprop, metrics=[\"acc\"])"
   ]
  },
  {
   "cell_type": "code",
   "execution_count": null,
   "metadata": {
    "ExecuteTime": {
     "start_time": "2020-08-16T06:09:12.067Z"
    },
    "hidden": true
   },
   "outputs": [],
   "source": [
    "# 数据预处理\n",
    "train_data_gen = ImageDataGenerator(rescale=1. / 255)\n",
    "test_data_gen = ImageDataGenerator(rescale=1. / 255)\n",
    "\n",
    "train_generator = train_data_gen.flow_from_directory(train_dir,\n",
    "                                                     target_size=(150, 150),\n",
    "                                                     batch_size=20,\n",
    "                                                     class_mode='binary')\n",
    "\n",
    "validation_generator = test_data_gen.flow_from_directory(validation_dir,\n",
    "                                                         target_size=(150,\n",
    "                                                                      150),\n",
    "                                                         batch_size=20,\n",
    "                                                         class_mode='binary')\n",
    "\n",
    "# 训练模型\n",
    "history = model.fit_generator(train_generator,\n",
    "                              steps_per_epoch=100,\n",
    "                              epochs=10,\n",
    "                              validation_data=validation_generator,\n",
    "                              validation_steps=50)"
   ]
  },
  {
   "cell_type": "code",
   "execution_count": null,
   "metadata": {
    "ExecuteTime": {
     "start_time": "2020-08-16T06:09:12.072Z"
    },
    "hidden": true
   },
   "outputs": [],
   "source": [
    "from dl_tools import plot_loss\n",
    "from dl_tools import plot_acc\n",
    "\n",
    "plot_loss(history)\n",
    "\n",
    "plt.figure()\n",
    "acc = history.history['acc']\n",
    "val_acc = history.history['val_acc']\n",
    "plt.plot(acc, 'bo', color=\"blue\", label=\"Training acc\")\n",
    "plt.plot(val_acc, 'bo', color=\"red\", label='Validation acc')\n",
    "plt.title('Training & validation acc')\n",
    "plt.legend()\n",
    "plt.show()"
   ]
  },
  {
   "cell_type": "markdown",
   "metadata": {
    "ExecuteTime": {
     "end_time": "2020-03-28T05:01:42.934682Z",
     "start_time": "2020-03-28T05:01:42.419118Z"
    },
    "heading_collapsed": true
   },
   "source": [
    "## 使用预训练的卷积神经网络   "
   ]
  },
  {
   "cell_type": "code",
   "execution_count": null,
   "metadata": {
    "ExecuteTime": {
     "start_time": "2020-08-16T06:09:12.142Z"
    },
    "hidden": true
   },
   "outputs": [],
   "source": [
    "from keras.applications import VGG16\n",
    "\n",
    "conv_base = VGG16(weights='imagenet',\n",
    "                  include_top=False,\n",
    "                  input_shape=(150, 150, 3))\n",
    "conv_base.trainable = False"
   ]
  },
  {
   "cell_type": "code",
   "execution_count": null,
   "metadata": {
    "ExecuteTime": {
     "start_time": "2020-08-16T06:09:12.146Z"
    },
    "hidden": true
   },
   "outputs": [],
   "source": [
    "#  数据预训练\n",
    "train_data_gen = ImageDataGenerator(rescale=1. / 255,\n",
    "                                    rotation_range=40,\n",
    "                                    width_shift_range=0.2,\n",
    "                                    height_shift_range=0.2,\n",
    "                                    shear_range=0.2,\n",
    "                                    zoom_range=0.2,\n",
    "                                    horizontal_flip=True,\n",
    "                                    fill_mode='nearest')\n",
    "test_data_gen = ImageDataGenerator(rescale=1. / 255)\n",
    "\n",
    "train_generator = train_data_gen.flow_from_directory(train_dir,\n",
    "                                                     target_size=(150, 150),\n",
    "                                                     batch_size=20,\n",
    "                                                     class_mode='binary')\n",
    "\n",
    "validation_generator = test_data_gen.flow_from_directory(validation_dir,\n",
    "                                                         target_size=(150,\n",
    "                                                                      150),\n",
    "                                                         batch_size=20,\n",
    "                                                         class_mode='binary')"
   ]
  },
  {
   "cell_type": "code",
   "execution_count": null,
   "metadata": {
    "ExecuteTime": {
     "start_time": "2020-08-16T06:09:12.148Z"
    },
    "hidden": true
   },
   "outputs": [],
   "source": [
    "# 搭建网络\n",
    "model = Sequential()\n",
    "model.add(conv_base)\n",
    "model.add(Flatten())\n",
    "model.add(Dense(256, activation='relu'))\n",
    "model.add(Dense(1, activation=\"sigmoid\"))\n",
    "\n",
    "# 编译模型\n",
    "rmsprop = RMSprop(lr=1e-4)\n",
    "model.compile(loss=\"binary_crossentropy\",\n",
    "              optimizer=rmsprop,\n",
    "              metrics=[\"accuracy\"])\n",
    "\n",
    "# 训练模型\n",
    "history = model.fit_generator(train_generator,\n",
    "                              steps_per_epoch=100,\n",
    "                              epochs=4,\n",
    "                              validation_data=validation_generator,\n",
    "                              validation_steps=50)"
   ]
  },
  {
   "cell_type": "code",
   "execution_count": null,
   "metadata": {
    "ExecuteTime": {
     "start_time": "2020-08-16T06:09:12.152Z"
    },
    "hidden": true
   },
   "outputs": [],
   "source": [
    "plt.figure()\n",
    "plt.plot(history.history['acc'], 'bo', color='blue', label='Training acc')\n",
    "plt.plot(history.history['val_acc'], 'bo', color='red', label='Validation acc')\n",
    "plt.legend()\n",
    "plt.title('Training & validation acc')\n",
    "plt.show()\n",
    "\n",
    "plt.figure()\n",
    "plt.plot(history.history['loss'], 'bo', color='blue', label='Training loss')\n",
    "plt.plot(history.history['val_loss'],\n",
    "         'bo',\n",
    "         color='red',\n",
    "         label='Validation loss')\n",
    "plt.legend()\n",
    "plt.title('Training & validation loss')\n",
    "plt.show()"
   ]
  },
  {
   "cell_type": "markdown",
   "metadata": {
    "heading_collapsed": true
   },
   "source": [
    "## 微调卷积神经网络模型"
   ]
  },
  {
   "cell_type": "code",
   "execution_count": null,
   "metadata": {
    "ExecuteTime": {
     "start_time": "2020-08-16T06:09:12.217Z"
    },
    "hidden": true
   },
   "outputs": [],
   "source": [
    "# 冻结所有层并解冻某一层\n",
    "conv_base.trainable = True\n",
    "set_trainable = False\n",
    "\n",
    "for layer in conv_base.layers:\n",
    "    if layer.name == 'block5_conv1':\n",
    "        set_trainable = True\n",
    "    if set_trainable:\n",
    "        layer.trainable = True\n",
    "    else:\n",
    "        layer.trainable = False"
   ]
  },
  {
   "cell_type": "code",
   "execution_count": null,
   "metadata": {
    "ExecuteTime": {
     "start_time": "2020-08-16T06:09:12.221Z"
    },
    "hidden": true
   },
   "outputs": [],
   "source": [
    "model.compile(loss='binary_crossentropy',\n",
    "              optimizer=RMSprop(lr=1e-5),\n",
    "              metrics=['acc'])\n",
    "\n",
    "history = model.fit_generator(train_generator,\n",
    "                              steps_per_epoch=100,\n",
    "                              epochs=6,\n",
    "                              validation_data=validation_generator,\n",
    "                              validation_steps=50)"
   ]
  },
  {
   "cell_type": "code",
   "execution_count": null,
   "metadata": {
    "ExecuteTime": {
     "start_time": "2020-08-16T06:09:12.224Z"
    },
    "hidden": true
   },
   "outputs": [],
   "source": [
    "plt.figure()\n",
    "plt.plot(history.history['acc'], 'bo', color='blue', label='Training acc')\n",
    "plt.plot(history.history['val_acc'], 'bo', color='red', label='Validation acc')\n",
    "plt.legend()\n",
    "plt.title('Training & validation acc')\n",
    "plt.show()\n",
    "\n",
    "plt.figure()\n",
    "plt.plot(history.history['loss'], 'bo', color='blue', label='Training loss')\n",
    "plt.plot(history.history['val_loss'],\n",
    "         'bo',\n",
    "         color='red',\n",
    "         label='Validation loss')\n",
    "plt.legend()\n",
    "plt.title('Training & validation loss')\n",
    "plt.show()"
   ]
  },
  {
   "cell_type": "markdown",
   "metadata": {
    "ExecuteTime": {
     "end_time": "2020-03-29T13:25:40.288296Z",
     "start_time": "2020-03-29T13:25:40.257018Z"
    },
    "heading_collapsed": true
   },
   "source": [
    "## 卷积神经网络的可视化"
   ]
  },
  {
   "cell_type": "code",
   "execution_count": null,
   "metadata": {
    "ExecuteTime": {
     "start_time": "2020-08-16T06:09:12.291Z"
    },
    "hidden": true
   },
   "outputs": [],
   "source": [
    "model = load_model('E:/Jupyter/Results/Model/cat_vs_dog_2.h5')"
   ]
  },
  {
   "cell_type": "code",
   "execution_count": null,
   "metadata": {
    "ExecuteTime": {
     "start_time": "2020-08-16T06:09:12.295Z"
    },
    "hidden": true
   },
   "outputs": [],
   "source": [
    "img_path = 'E:/Jupyter/Lib/DataSettings/PetImages/Exercise/test/Test_cat/1637.jpg'\n",
    "img = image.load_img(img_path, target_size=(150, 150))\n",
    "img_tensor = image.img_to_array(img)\n",
    "img_tensor = np.expand_dims(img_tensor, axis=0)\n",
    "img_tensor /= 255.\n",
    "print(img_tensor.shape)\n",
    "\n",
    "plt.imshow(img_tensor[0])\n",
    "plt.show()"
   ]
  },
  {
   "cell_type": "code",
   "execution_count": null,
   "metadata": {
    "ExecuteTime": {
     "start_time": "2020-08-16T06:09:12.298Z"
    },
    "hidden": true
   },
   "outputs": [],
   "source": [
    "layer_outputs = [layer.output for layer in model.layers[:8]]\n",
    "activation_model = Model(inputs=model.input, outputs=layer_outputs)"
   ]
  },
  {
   "cell_type": "code",
   "execution_count": null,
   "metadata": {
    "ExecuteTime": {
     "start_time": "2020-08-16T06:09:12.302Z"
    },
    "hidden": true
   },
   "outputs": [],
   "source": [
    "activations = activation_model.predict(img_tensor)\n",
    "\n",
    "for i in range(8):\n",
    "    layer_img = activations[i]\n",
    "    for j in range(50):\n",
    "        try:\n",
    "            plt.matshow(layer_img[0, :, :, j], cmap='viridis')\n",
    "            plt.show()\n",
    "        except:\n",
    "            continue"
   ]
  },
  {
   "cell_type": "markdown",
   "metadata": {
    "ExecuteTime": {
     "end_time": "2020-03-29T13:53:27.807742Z",
     "start_time": "2020-03-29T13:53:27.589454Z"
    }
   },
   "source": [
    "# 结合CNN与RNN处理长序列"
   ]
  },
  {
   "cell_type": "markdown",
   "metadata": {},
   "source": [
    "一维卷积神经网络与一维池化"
   ]
  },
  {
   "cell_type": "code",
   "execution_count": null,
   "metadata": {
    "ExecuteTime": {
     "start_time": "2020-08-16T06:09:12.436Z"
    }
   },
   "outputs": [],
   "source": [
    "max_features = 10000\n",
    "maxlen = 500\n",
    "batch_size = 128\n",
    "\n",
    "print('正在下载数据......')\n",
    "(input_train, y_train), (input_test,\n",
    "                         y_test) = imdb.load_data(num_words=max_features)\n",
    "print('下载完成')\n",
    "print(len(input_train), 'train squences')\n",
    "print(len(input_test), 'test squences')\n",
    "print('正在加载数据......')\n",
    "\n",
    "X_train = sequence.pad_sequences(input_train,\n",
    "                                 maxlen=maxlen)  # 截取前500个单词，转换二维张量\n",
    "X_test = sequence.pad_sequences(input_test, maxlen=maxlen)  # 截取前500个单词\n",
    "print('完成数据预处理')\n",
    "print('训练集形状：', X_train.shape)\n",
    "print('测试机集形状：', X_test.shape)"
   ]
  },
  {
   "cell_type": "code",
   "execution_count": null,
   "metadata": {
    "ExecuteTime": {
     "start_time": "2020-08-16T06:09:12.440Z"
    }
   },
   "outputs": [],
   "source": [
    "model = Sequential()\n",
    "model.add(Embedding(max_features, batch_size, input_length=maxlen))\n",
    "model.add(Conv1D(32, 7, activation='relu'))\n",
    "model.add(MaxPooling1D(5))\n",
    "model.add(Conv1D(32, 7, activation='relu'))\n",
    "model.add(GlobalMaxPooling1D())\n",
    "model.add(Dense(1, activation='sigmoid'))\n",
    "\n",
    "model.compile(optimizer=RMSprop(lr=1e-4),\n",
    "              loss='binary_crossentropy',\n",
    "              metrics=['acc'])\n",
    "cost = model.fit(X_train,\n",
    "                 y_train,\n",
    "                 epochs=10,\n",
    "                 batch_size=128,\n",
    "                 validation_split=0.2)"
   ]
  },
  {
   "cell_type": "code",
   "execution_count": null,
   "metadata": {
    "ExecuteTime": {
     "end_time": "2020-04-02T15:00:53.853486Z",
     "start_time": "2020-04-02T15:00:53.822556Z"
    }
   },
   "outputs": [],
   "source": []
  },
  {
   "cell_type": "markdown",
   "metadata": {},
   "source": [
    "# Keras函数式API：Model——多输入，多输出模型"
   ]
  },
  {
   "cell_type": "code",
   "execution_count": null,
   "metadata": {
    "ExecuteTime": {
     "start_time": "2020-08-16T06:09:12.510Z"
    }
   },
   "outputs": [],
   "source": [
    "vocabulary_size = 10000\n",
    "num_income_groups = 5\n",
    "\n",
    "inputs = Input(shape=(None, ), name='posts')\n",
    "embedding = Embedding(vocabulary_size, 128)(inputs)\n",
    "x = LSTM(32, activation='relu')(embedding)\n",
    "age_layer = Dense(1, name='age')(x)\n",
    "income_layer = Dense(num_income_groups, activation='softmax', name='income')(x)\n",
    "gender_layer = Dense(1, activation='sigmoid', name='gender')(x)\n",
    "\n",
    "model = Model(inputs, [age_layer, income_layer, gender_layer])\n",
    "model.compile(optimizer='rmsprop',\n",
    "              loss={\n",
    "                  'age': 'mse',\n",
    "                  'income': 'categorical_crossentropy',\n",
    "                  'gender': 'binary_crossentropy'\n",
    "              },\n",
    "              loss_weight={\n",
    "                  \"age\": 0.25,\n",
    "                  'income': 1.,\n",
    "                  'gender': 10.\n",
    "              })"
   ]
  },
  {
   "cell_type": "markdown",
   "metadata": {},
   "source": [
    "# 回调函数"
   ]
  },
  {
   "cell_type": "code",
   "execution_count": null,
   "metadata": {
    "ExecuteTime": {
     "start_time": "2020-08-16T06:09:12.593Z"
    }
   },
   "outputs": [],
   "source": [
    "max_features = 3000\n",
    "maxlen = 500\n",
    "batch_size = 128\n",
    "\n",
    "print('正在下载数据......')\n",
    "(input_train, y_train), (input_test,\n",
    "                         y_test) = imdb.load_data(num_words=max_features)\n",
    "print('下载完成')\n",
    "print(len(input_train), 'train squences')\n",
    "print(len(input_test), 'test squences')\n",
    "print('正在加载数据......')\n",
    "\n",
    "X_train = sequence.pad_sequences(input_train,\n",
    "                                 maxlen=maxlen)  # 截取前500个单词，转换二维张量\n",
    "X_test = sequence.pad_sequences(input_test, maxlen=maxlen)  # 截取前500个单词\n",
    "print('完成数据预处理')\n",
    "print('训练集形状：', X_train.shape)\n",
    "print('测试机集形状：', X_test.shape)\n",
    "\n",
    "model = Sequential()\n",
    "model.add(Embedding(max_features, 32, input_length=maxlen,\n",
    "                    name='embed'))  # 整数索引映射为密集向量 ，如果其后接全连接层，需要用Flatten()展平\n",
    "model.add(Bidirectional(LSTM(32)))\n",
    "model.add(Dense(1, activation='sigmoid'))\n",
    "\n",
    "# 模型编译\n",
    "model.compile(optimizer='rmsprop', loss='binary_crossentropy', metrics=['acc'])"
   ]
  },
  {
   "cell_type": "code",
   "execution_count": null,
   "metadata": {
    "ExecuteTime": {
     "start_time": "2020-08-16T06:09:12.597Z"
    }
   },
   "outputs": [],
   "source": [
    "callback_list = [\n",
    "    EarlyStopping(monitor='acc', patience=5),\n",
    "    ModelCheckpoint(filepath='E:/Jupyter/Results/CallBack/call_back_1.h5',\n",
    "                    monitor='val_loss',\n",
    "                    save_best_only=True),\n",
    "    ReduceLROnPlateau(monitor='val_loss', factor=0.1, patience=3),\n",
    "    TensorBoard(log_dir='E:/Jupyter/Results/TensorBoard/',\n",
    "                histogram_freq=1,\n",
    "                embeddings_freq=1,\n",
    "                embeddings_data=X_train[:100].astype(\"float32\"))\n",
    "]\n",
    "\n",
    "model.fit(X_train,\n",
    "          y_train,\n",
    "          epochs=20,\n",
    "          validation_data=(X_test, y_test),\n",
    "          callbacks=callback_list)"
   ]
  },
  {
   "cell_type": "markdown",
   "metadata": {},
   "source": [
    "# 模型作图"
   ]
  },
  {
   "cell_type": "markdown",
   "metadata": {},
   "source": [
    "tensorboard"
   ]
  },
  {
   "cell_type": "code",
   "execution_count": null,
   "metadata": {
    "ExecuteTime": {
     "start_time": "2020-08-16T06:09:12.736Z"
    }
   },
   "outputs": [],
   "source": [
    "max_features = 800\n",
    "maxlen = 500\n",
    "batch_size = 128\n",
    "\n",
    "print('正在下载数据......')\n",
    "(input_train, y_train), (input_test,\n",
    "                         y_test) = imdb.load_data(num_words=max_features)\n",
    "print('下载完成')\n",
    "print(len(input_train), 'train squences')\n",
    "print(len(input_test), 'test squences')\n",
    "print('正在加载数据......')\n",
    "\n",
    "X_train = sequence.pad_sequences(input_train,\n",
    "                                 maxlen=maxlen)  # 截取前500个单词，转换二维张量\n",
    "X_test = sequence.pad_sequences(input_test, maxlen=maxlen)  # 截取前500个单词\n",
    "print('完成数据预处理')\n",
    "print('训练集形状：', X_train.shape)\n",
    "print('测试机集形状：', X_test.shape)\n",
    "\n",
    "model = Sequential()\n",
    "model.add(\n",
    "    Embedding(max_features, batch_size, input_length=maxlen,\n",
    "              name='embed'))  # 整数索引映射为密集向量 ，如果其后接全连接层，需要用Flatten()展平\n",
    "model.add(Conv1D(32, 7, activation='relu'))\n",
    "model.add(MaxPooling1D(5))\n",
    "model.add(Conv1D(32, 7, activation='relu'))\n",
    "model.add(GlobalMaxPooling1D())\n",
    "model.add(Dense(1))\n",
    "\n",
    "# 模型编译\n",
    "model.compile(optimizer='rmsprop', loss='binary_crossentropy', metrics=['acc'])\n",
    "\n",
    "# 回调函数\n",
    "callback_list = [\n",
    "    EarlyStopping(monitor='acc', patience=5),\n",
    "    ReduceLROnPlateau(monitor='val_loss', factor=0.1, patience=3),\n",
    "    TensorBoard(log_dir='E:/Jupyter/Results/TensorBoard/',\n",
    "                histogram_freq=1,\n",
    "                write_grads=True,\n",
    "                embeddings_freq=1,\n",
    "                embeddings_data=X_train[:100].astype(\"float32\"))\n",
    "]\n",
    "\n",
    "# 训练模型\n",
    "model.fit(X_train,\n",
    "          y_train,\n",
    "          epochs=20,\n",
    "          validation_data=(X_test, y_test),\n",
    "          callbacks=callback_list)"
   ]
  },
  {
   "cell_type": "raw",
   "metadata": {},
   "source": [
    "未安装tensorflow-gpu，故无法运行。"
   ]
  },
  {
   "cell_type": "markdown",
   "metadata": {},
   "source": [
    "Plot Model"
   ]
  },
  {
   "cell_type": "code",
   "execution_count": null,
   "metadata": {
    "ExecuteTime": {
     "start_time": "2020-08-16T06:09:12.841Z"
    }
   },
   "outputs": [],
   "source": [
    "from keras.utils import plot_model\n",
    "import graphviz"
   ]
  },
  {
   "cell_type": "code",
   "execution_count": null,
   "metadata": {
    "ExecuteTime": {
     "start_time": "2020-08-16T06:09:12.845Z"
    }
   },
   "outputs": [],
   "source": [
    "max_features = 800\n",
    "maxlen = 500\n",
    "batch_size = 128\n",
    "\n",
    "model = Sequential()\n",
    "model.add(\n",
    "    Embedding(max_features, batch_size, input_length=maxlen,\n",
    "              name='embed'))  # 整数索引映射为密集向量 ，如果其后接全连接层，需要用Flatten()展平\n",
    "model.add(Conv1D(32, 7, activation='relu'))\n",
    "model.add(MaxPooling1D(5))\n",
    "model.add(Conv1D(32, 7, activation='relu'))\n",
    "model.add(GlobalMaxPooling1D())\n",
    "model.add(Dense(1))\n",
    "\n",
    "# 模型编译\n",
    "model.compile(optimizer='rmsprop', loss='binary_crossentropy', metrics=['acc'])\n",
    "\n",
    "# 绘制模型流程图\n",
    "plot_model(model,\n",
    "           to_file='E:/Jupyter/Results/CallBack/model.png',\n",
    "           show_shapes=True)"
   ]
  },
  {
   "cell_type": "markdown",
   "metadata": {},
   "source": [
    "# 使用LSTM生成文本"
   ]
  },
  {
   "cell_type": "code",
   "execution_count": null,
   "metadata": {
    "ExecuteTime": {
     "start_time": "2020-08-16T06:09:12.925Z"
    }
   },
   "outputs": [],
   "source": [
    "from keras import *"
   ]
  },
  {
   "cell_type": "code",
   "execution_count": null,
   "metadata": {
    "ExecuteTime": {
     "start_time": "2020-08-16T06:09:12.928Z"
    }
   },
   "outputs": [],
   "source": [
    "path = 'E:/Jupyter/Lib/DataSettings/Peoms/yeats.txt'\n",
    "text = open(path).read().lower()\n",
    "print('Length:', len(text))"
   ]
  },
  {
   "cell_type": "code",
   "execution_count": null,
   "metadata": {
    "ExecuteTime": {
     "start_time": "2020-08-16T06:09:12.932Z"
    }
   },
   "outputs": [],
   "source": [
    "maxlen = 60  # 每60个字符一序列\n",
    "step = 3  # 每三个字符采样一新序列\n",
    "sentences = []  # 保存所提取序列\n",
    "next_chars = []  # 保存目标字符\n",
    "for i in range(0, len(text) - maxlen, step):\n",
    "    sentences.append(text[i:i + maxlen])\n",
    "    next_chars.append(text[i + maxlen])\n",
    "print('number of sentence:', len(sentences))\n",
    "chars = sorted(list(set(text)))\n",
    "print('Unique characters:', len(chars))\n",
    "chars_indices = dict((char, chars.index(char)) for char in chars)\n",
    "\n",
    "# one-hot编码\n",
    "print('Vectorization......')\n",
    "x = np.zeros((len(sentences), maxlen, len(chars)), dtype=np.bool)\n",
    "y = np.zeros((len(sentences), len(chars)), dtype=np.bool)\n",
    "for i, sentence in enumerate(sentences):\n",
    "    for t, char in enumerate(sentence):\n",
    "        x[i, t, chars_indices[char]] = 1\n",
    "    y[i, chars_indices[next_chars[i]]] = 1"
   ]
  },
  {
   "cell_type": "code",
   "execution_count": null,
   "metadata": {
    "ExecuteTime": {
     "start_time": "2020-08-16T06:09:12.936Z"
    }
   },
   "outputs": [],
   "source": [
    "model = Sequential()\n",
    "model.add(LSTM(128, input_shape=(maxlen, len(chars))))\n",
    "model.add(Dense(len(chars), activation='softmax'))\n",
    "optimizer = RMSprop(lr=0.01)\n",
    "model.compile(optimizer=optimizer, loss='categorical_crossentropy')"
   ]
  },
  {
   "cell_type": "code",
   "execution_count": null,
   "metadata": {
    "ExecuteTime": {
     "start_time": "2020-08-16T06:09:12.939Z"
    },
    "code_folding": []
   },
   "outputs": [],
   "source": [
    "# 函数：给定模型预测，采样下一个字符\n",
    "def sample(preds, temperature=1.0):\n",
    "    preds = np.asarray(preds).astype('float64')\n",
    "    preds = np.log(preds) / temperature\n",
    "    exp_preds = np.exp(preds)\n",
    "    preds = exp_preds / np.sum(exp_preds)\n",
    "    probas = np.random.multinomial(1, preds, 1)\n",
    "    return np.argmax(probas)\n",
    "\n",
    "\n",
    "for epoch in range(1, 40):  # 模型训练60轮\n",
    "    print('epoch:', epoch)\n",
    "    model.fit(x, y, batch_size=128, epochs=1)  # 模型拟合一次\n",
    "\n",
    "    start_index = random.randint(0, len(text) - maxlen - 1)  #\n",
    "    generated_text = text[start_index:start_index + maxlen]  # 随机选取种子文本\n",
    "    print('Generating with seeds:\"' + generated_text + '\"')  #\n",
    "\n",
    "    for temperature in [0.2, 0.5, 1.0, 1.2]:  # 尝试一系列不同温度\n",
    "        print('temperature:', temperature)\n",
    "        sys.stdout.write(generated_text)\n",
    "\n",
    "        for i in range(400):\n",
    "            sampled = np.zeros((1, maxlen, len(chars)))  #\n",
    "            for t, char in enumerate(generated_text):  # 对生成的字符进行one-hot编码\n",
    "                sampled[0, t, chars_indices[char]] = 1.  #\n",
    "\n",
    "            preds = model.predict(sampled, verbose=0)[0]  #\n",
    "            next_index = sample(preds, temperature)  # 对下个字符采样\n",
    "            next_char = chars[next_index]  #\n",
    "\n",
    "            generated_text += next_char\n",
    "            generated_text = generated_text[1:]\n",
    "            sys.stdout.write(next_char)"
   ]
  }
 ],
 "metadata": {
  "kernelspec": {
   "display_name": "Python 3",
   "language": "python",
   "name": "python3"
  },
  "language_info": {
   "codemirror_mode": {
    "name": "ipython",
    "version": 3
   },
   "file_extension": ".py",
   "mimetype": "text/x-python",
   "name": "python",
   "nbconvert_exporter": "python",
   "pygments_lexer": "ipython3",
   "version": "3.7.6"
  },
  "latex_envs": {
   "LaTeX_envs_menu_present": true,
   "autoclose": false,
   "autocomplete": true,
   "bibliofile": "biblio.bib",
   "cite_by": "apalike",
   "current_citInitial": 1,
   "eqLabelWithNumbers": true,
   "eqNumInitial": 1,
   "hotkeys": {
    "equation": "Ctrl-E",
    "itemize": "Ctrl-I"
   },
   "labels_anchors": false,
   "latex_user_defs": false,
   "report_style_numbering": false,
   "user_envs_cfg": false
  },
  "notify_time": "5",
  "toc": {
   "base_numbering": 1,
   "nav_menu": {},
   "number_sections": true,
   "sideBar": true,
   "skip_h1_title": false,
   "title_cell": "Table of Contents",
   "title_sidebar": "Contents",
   "toc_cell": false,
   "toc_position": {
    "height": "calc(100% - 180px)",
    "left": "10px",
    "top": "150px",
    "width": "256px"
   },
   "toc_section_display": true,
   "toc_window_display": true
  }
 },
 "nbformat": 4,
 "nbformat_minor": 2
}
